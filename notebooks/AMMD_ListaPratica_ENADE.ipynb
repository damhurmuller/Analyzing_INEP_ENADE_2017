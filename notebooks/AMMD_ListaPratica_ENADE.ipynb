{
 "cells": [
  {
   "cell_type": "markdown",
   "metadata": {},
   "source": [
    "<table style=\"width: 100%; margin-left: auto; margin-right: auto; background-color: white;\">\n",
    "<tbody>\n",
    "<tr>\n",
    "\n",
    "<td style=\"text-align: center; width: 12%;\"><img src=imagens/brasil-brasao.png alt=\"\" /></td>\n",
    "\n",
    "<td style=\"width: 68%;\">\n",
    "<h2 style=\"text-align: center; margin-top: 1%;\">Rep&uacute;blica Federativa do Brasil</h2>\n",
    "<h2 style=\"text-align: center; margin-top: 1%;\">Minist&eacute;rio da Educa&ccedil;&atilde;o</h2>\n",
    "<h2 style=\"text-align: center; margin-top: 1%;\">Universidade Federal do Amazonas</h2>\n",
    "<h2 style=\"text-align: center; margin-top: 1%;\">Instituto de Computa&ccedil;&atilde;o</h2>\n",
    "</td>\n",
    "\n",
    "<td style=\"width: 12%;\"><img src=\"imagens/UFAM-logo.png\" alt=\"\" /></td>\n",
    "\n",
    "</tr>\n",
    "</tbody>\n",
    "</table>"
   ]
  },
  {
   "cell_type": "markdown",
   "metadata": {},
   "source": [
    "# Aprendizado de Máquina e Mineração de Dados\n",
    "## Lista Prática de Análise de Dados"
   ]
  },
  {
   "cell_type": "markdown",
   "metadata": {},
   "source": [
    "Professor _Marco Cristo_ \n",
    "\n",
    "**Aluno**: Mário Damhur Moraes Müller"
   ]
  },
  {
   "cell_type": "markdown",
   "metadata": {
    "collapsed": true
   },
   "source": []
  },
  {
   "cell_type": "markdown",
   "metadata": {},
   "source": [
    "__Introdução__: Neste trabalho, vamos analisar dados do INEP sobre o ENADE 2017. Estes dados estão organizados em uma releção com as informações do candidato necessárias para realizar a prova, além das suas notas e as respostas que os candidatos deram a questionários sobre a prova, seus dados pessoais e curso realizado. Em anexo, ao fim deste notebook, temos uma descrição detalhada das informações obtidas. "
   ]
  },
  {
   "cell_type": "markdown",
   "metadata": {},
   "source": [
    "#### Preliminares"
   ]
  },
  {
   "cell_type": "code",
   "execution_count": 1,
   "metadata": {},
   "outputs": [],
   "source": [
    "# usar versão do Python 3.x\n",
    "\n",
    "# Imports\n",
    "import pandas as pd\n",
    "import numpy as np\n",
    "import matplotlib.pyplot as plt\n",
    "import seaborn as sns\n",
    "import sklearn\n",
    "import sys"
   ]
  },
  {
   "cell_type": "code",
   "execution_count": 2,
   "metadata": {},
   "outputs": [
    {
     "name": "stdout",
     "output_type": "stream",
     "text": [
      "Python 3.6.7 (default, Oct 22 2018, 11:32:17) \n",
      "[GCC 8.2.0]\n",
      "--------\n",
      "Pandas: 0.24.2\n",
      "Numpy: 1.16.4\n",
      "SKLearn: 0.21.2\n",
      "Seaborn: 0.9.0\n"
     ]
    }
   ],
   "source": [
    "print('Python', sys.version)\n",
    "print('--------')\n",
    "print('Pandas:', pd.__version__)\n",
    "print('Numpy:', np.__version__)\n",
    "print('SKLearn:', sklearn.__version__)\n",
    "print('Seaborn:', sns.__version__)"
   ]
  },
  {
   "cell_type": "code",
   "execution_count": 3,
   "metadata": {},
   "outputs": [],
   "source": [
    "# Caminho do arquivo\n",
    "egeral = pd.read_csv('./enade2017_EngenhariaTecnologiadeProducao.csv', sep=';')"
   ]
  },
  {
   "cell_type": "code",
   "execution_count": 4,
   "metadata": {},
   "outputs": [
    {
     "data": {
      "text/html": [
       "<div>\n",
       "<style scoped>\n",
       "    .dataframe tbody tr th:only-of-type {\n",
       "        vertical-align: middle;\n",
       "    }\n",
       "\n",
       "    .dataframe tbody tr th {\n",
       "        vertical-align: top;\n",
       "    }\n",
       "\n",
       "    .dataframe thead th {\n",
       "        text-align: right;\n",
       "    }\n",
       "</style>\n",
       "<table border=\"1\" class=\"dataframe\">\n",
       "  <thead>\n",
       "    <tr style=\"text-align: right;\">\n",
       "      <th></th>\n",
       "      <th>CO_IES</th>\n",
       "      <th>CO_CATEGAD</th>\n",
       "      <th>CO_ORGACAD</th>\n",
       "      <th>CURSO</th>\n",
       "      <th>CO_MODALIDADE</th>\n",
       "      <th>CO_UF_CURSO</th>\n",
       "      <th>REGIAO</th>\n",
       "      <th>NU_IDADE</th>\n",
       "      <th>TP_SEXO</th>\n",
       "      <th>ANO_FIM_EM</th>\n",
       "      <th>...</th>\n",
       "      <th>QE_I59</th>\n",
       "      <th>QE_I60</th>\n",
       "      <th>QE_I61</th>\n",
       "      <th>QE_I62</th>\n",
       "      <th>QE_I63</th>\n",
       "      <th>QE_I64</th>\n",
       "      <th>QE_I65</th>\n",
       "      <th>QE_I66</th>\n",
       "      <th>QE_I67</th>\n",
       "      <th>QE_I68</th>\n",
       "    </tr>\n",
       "  </thead>\n",
       "  <tbody>\n",
       "    <tr>\n",
       "      <th>6878</th>\n",
       "      <td>1491</td>\n",
       "      <td>4</td>\n",
       "      <td>10020</td>\n",
       "      <td>Engenharia/Tecnologia de Producao</td>\n",
       "      <td>0</td>\n",
       "      <td>PR</td>\n",
       "      <td>SU</td>\n",
       "      <td>31</td>\n",
       "      <td>M</td>\n",
       "      <td>2004.0</td>\n",
       "      <td>...</td>\n",
       "      <td>5.0</td>\n",
       "      <td>4.0</td>\n",
       "      <td>5.0</td>\n",
       "      <td>5.0</td>\n",
       "      <td>5.0</td>\n",
       "      <td>5.0</td>\n",
       "      <td>6.0</td>\n",
       "      <td>5.0</td>\n",
       "      <td>8.0</td>\n",
       "      <td>8.0</td>\n",
       "    </tr>\n",
       "    <tr>\n",
       "      <th>11233</th>\n",
       "      <td>163</td>\n",
       "      <td>4</td>\n",
       "      <td>10028</td>\n",
       "      <td>Engenharia/Tecnologia de Producao</td>\n",
       "      <td>1</td>\n",
       "      <td>RJ</td>\n",
       "      <td>SE</td>\n",
       "      <td>22</td>\n",
       "      <td>F</td>\n",
       "      <td>2012.0</td>\n",
       "      <td>...</td>\n",
       "      <td>6.0</td>\n",
       "      <td>6.0</td>\n",
       "      <td>6.0</td>\n",
       "      <td>6.0</td>\n",
       "      <td>6.0</td>\n",
       "      <td>6.0</td>\n",
       "      <td>6.0</td>\n",
       "      <td>6.0</td>\n",
       "      <td>6.0</td>\n",
       "      <td>6.0</td>\n",
       "    </tr>\n",
       "    <tr>\n",
       "      <th>2056</th>\n",
       "      <td>14</td>\n",
       "      <td>5</td>\n",
       "      <td>10028</td>\n",
       "      <td>Engenharia/Tecnologia de Producao</td>\n",
       "      <td>1</td>\n",
       "      <td>RS</td>\n",
       "      <td>SU</td>\n",
       "      <td>25</td>\n",
       "      <td>F</td>\n",
       "      <td>2008.0</td>\n",
       "      <td>...</td>\n",
       "      <td>6.0</td>\n",
       "      <td>6.0</td>\n",
       "      <td>5.0</td>\n",
       "      <td>6.0</td>\n",
       "      <td>6.0</td>\n",
       "      <td>6.0</td>\n",
       "      <td>6.0</td>\n",
       "      <td>7.0</td>\n",
       "      <td>5.0</td>\n",
       "      <td>6.0</td>\n",
       "    </tr>\n",
       "    <tr>\n",
       "      <th>230</th>\n",
       "      <td>572</td>\n",
       "      <td>1</td>\n",
       "      <td>10028</td>\n",
       "      <td>Engenharia/Tecnologia de Producao</td>\n",
       "      <td>1</td>\n",
       "      <td>RJ</td>\n",
       "      <td>SE</td>\n",
       "      <td>24</td>\n",
       "      <td>M</td>\n",
       "      <td>2010.0</td>\n",
       "      <td>...</td>\n",
       "      <td>6.0</td>\n",
       "      <td>6.0</td>\n",
       "      <td>5.0</td>\n",
       "      <td>6.0</td>\n",
       "      <td>5.0</td>\n",
       "      <td>6.0</td>\n",
       "      <td>7.0</td>\n",
       "      <td>6.0</td>\n",
       "      <td>6.0</td>\n",
       "      <td>6.0</td>\n",
       "    </tr>\n",
       "    <tr>\n",
       "      <th>15179</th>\n",
       "      <td>2</td>\n",
       "      <td>1</td>\n",
       "      <td>10028</td>\n",
       "      <td>Engenharia/Tecnologia de Producao</td>\n",
       "      <td>1</td>\n",
       "      <td>DF</td>\n",
       "      <td>CO</td>\n",
       "      <td>25</td>\n",
       "      <td>F</td>\n",
       "      <td>2010.0</td>\n",
       "      <td>...</td>\n",
       "      <td>5.0</td>\n",
       "      <td>5.0</td>\n",
       "      <td>5.0</td>\n",
       "      <td>6.0</td>\n",
       "      <td>5.0</td>\n",
       "      <td>6.0</td>\n",
       "      <td>6.0</td>\n",
       "      <td>5.0</td>\n",
       "      <td>7.0</td>\n",
       "      <td>4.0</td>\n",
       "    </tr>\n",
       "  </tbody>\n",
       "</table>\n",
       "<p>5 rows × 105 columns</p>\n",
       "</div>"
      ],
      "text/plain": [
       "       CO_IES  CO_CATEGAD  CO_ORGACAD                              CURSO  \\\n",
       "6878     1491           4       10020  Engenharia/Tecnologia de Producao   \n",
       "11233     163           4       10028  Engenharia/Tecnologia de Producao   \n",
       "2056       14           5       10028  Engenharia/Tecnologia de Producao   \n",
       "230       572           1       10028  Engenharia/Tecnologia de Producao   \n",
       "15179       2           1       10028  Engenharia/Tecnologia de Producao   \n",
       "\n",
       "       CO_MODALIDADE CO_UF_CURSO REGIAO  NU_IDADE TP_SEXO  ANO_FIM_EM  ...  \\\n",
       "6878               0          PR     SU        31       M      2004.0  ...   \n",
       "11233              1          RJ     SE        22       F      2012.0  ...   \n",
       "2056               1          RS     SU        25       F      2008.0  ...   \n",
       "230                1          RJ     SE        24       M      2010.0  ...   \n",
       "15179              1          DF     CO        25       F      2010.0  ...   \n",
       "\n",
       "       QE_I59  QE_I60  QE_I61  QE_I62  QE_I63  QE_I64  QE_I65  QE_I66  QE_I67  \\\n",
       "6878      5.0     4.0     5.0     5.0     5.0     5.0     6.0     5.0     8.0   \n",
       "11233     6.0     6.0     6.0     6.0     6.0     6.0     6.0     6.0     6.0   \n",
       "2056      6.0     6.0     5.0     6.0     6.0     6.0     6.0     7.0     5.0   \n",
       "230       6.0     6.0     5.0     6.0     5.0     6.0     7.0     6.0     6.0   \n",
       "15179     5.0     5.0     5.0     6.0     5.0     6.0     6.0     5.0     7.0   \n",
       "\n",
       "       QE_I68  \n",
       "6878      8.0  \n",
       "11233     6.0  \n",
       "2056      6.0  \n",
       "230       6.0  \n",
       "15179     4.0  \n",
       "\n",
       "[5 rows x 105 columns]"
      ]
     },
     "execution_count": 4,
     "metadata": {},
     "output_type": "execute_result"
    }
   ],
   "source": [
    "egeral.sample(5)"
   ]
  },
  {
   "cell_type": "code",
   "execution_count": 5,
   "metadata": {},
   "outputs": [
    {
     "data": {
      "text/plain": [
       "(23988, 105)"
      ]
     },
     "execution_count": 5,
     "metadata": {},
     "output_type": "execute_result"
    }
   ],
   "source": [
    "egeral.shape"
   ]
  },
  {
   "cell_type": "markdown",
   "metadata": {},
   "source": [
    "#### Análise de valores faltantes"
   ]
  },
  {
   "cell_type": "markdown",
   "metadata": {},
   "source": [
    "<div class=\"alert alert-info\">\n",
    "<b>1</b> - Que colunas possuem campos nulos em **egeral**?\n",
    "</div>"
   ]
  },
  {
   "cell_type": "markdown",
   "metadata": {},
   "source": [
    "Há muitas formas de fazer isso em Pandas, como por exemplo através da utilização do método isnull()"
   ]
  },
  {
   "cell_type": "code",
   "execution_count": 6,
   "metadata": {},
   "outputs": [
    {
     "data": {
      "text/plain": [
       "Index(['CO_TURNO_GRADUACAO', 'NT_GER', 'NT_FG', 'NT_OBJ_FG', 'NT_DIS_FG',\n",
       "       'NT_FG_D1', 'NT_FG_D1_PT', 'NT_FG_D1_CT', 'NT_FG_D2', 'NT_FG_D2_PT',\n",
       "       'NT_FG_D2_CT', 'NT_CE', 'NT_OBJ_CE', 'NT_DIS_CE', 'NT_CE_D1',\n",
       "       'NT_CE_D2', 'NT_CE_D3', 'QE_I01', 'QE_I02', 'QE_I03', 'QE_I04',\n",
       "       'QE_I05', 'QE_I06', 'QE_I07', 'QE_I08', 'QE_I09', 'QE_I10', 'QE_I11',\n",
       "       'QE_I12', 'QE_I13', 'QE_I14', 'QE_I15', 'QE_I16', 'QE_I17', 'QE_I18',\n",
       "       'QE_I19', 'QE_I20', 'QE_I21', 'QE_I22', 'QE_I23', 'QE_I24', 'QE_I25',\n",
       "       'QE_I26', 'QE_I27', 'QE_I28', 'QE_I29', 'QE_I30', 'QE_I31', 'QE_I32',\n",
       "       'QE_I33', 'QE_I34', 'QE_I35', 'QE_I36', 'QE_I37', 'QE_I38', 'QE_I39',\n",
       "       'QE_I40', 'QE_I41', 'QE_I42', 'QE_I43', 'QE_I44', 'QE_I45', 'QE_I46',\n",
       "       'QE_I47', 'QE_I48', 'QE_I49', 'QE_I50', 'QE_I51', 'QE_I52', 'QE_I53',\n",
       "       'QE_I54', 'QE_I55', 'QE_I56', 'QE_I57', 'QE_I58', 'QE_I59', 'QE_I60',\n",
       "       'QE_I61', 'QE_I62', 'QE_I63', 'QE_I64', 'QE_I65', 'QE_I66', 'QE_I67',\n",
       "       'QE_I68'],\n",
       "      dtype='object')"
      ]
     },
     "execution_count": 6,
     "metadata": {},
     "output_type": "execute_result"
    }
   ],
   "source": [
    "egeral.columns[egeral.isnull().any()]"
   ]
  },
  {
   "cell_type": "markdown",
   "metadata": {},
   "source": [
    "<div class=\"alert alert-info\">\n",
    "<b>2</b> - Substitua dados faltantes por valores razoáveis. No caso dos questionários, as colunas até QE_I26 podem ser substituídas por um 'Z'. As colunas após a QE_I26 podem ser substituídas por 7 (7 = _Não sei responder_).\n",
    "</div>"
   ]
  },
  {
   "cell_type": "markdown",
   "metadata": {},
   "source": [
    "No caso das notas, se elas forem NaN, podemos substituí-las por 0. Após isso, imprima o vetor resultante para confirmar se não há mais valores NaNs"
   ]
  },
  {
   "cell_type": "code",
   "execution_count": 7,
   "metadata": {},
   "outputs": [
    {
     "data": {
      "text/plain": [
       "15920"
      ]
     },
     "execution_count": 7,
     "metadata": {},
     "output_type": "execute_result"
    }
   ],
   "source": [
    "egeral.isnull().sum().sum()"
   ]
  },
  {
   "cell_type": "code",
   "execution_count": 8,
   "metadata": {},
   "outputs": [
    {
     "data": {
      "text/plain": [
       "136"
      ]
     },
     "execution_count": 8,
     "metadata": {},
     "output_type": "execute_result"
    }
   ],
   "source": [
    "egeral.CO_TURNO_GRADUACAO.isnull().sum()"
   ]
  },
  {
   "cell_type": "code",
   "execution_count": 9,
   "metadata": {},
   "outputs": [
    {
     "data": {
      "text/plain": [
       "count    23852.000000\n",
       "mean         3.571147\n",
       "std          0.859807\n",
       "min          1.000000\n",
       "25%          3.000000\n",
       "50%          4.000000\n",
       "75%          4.000000\n",
       "max          4.000000\n",
       "Name: CO_TURNO_GRADUACAO, dtype: float64"
      ]
     },
     "execution_count": 9,
     "metadata": {},
     "output_type": "execute_result"
    }
   ],
   "source": [
    "egeral.CO_TURNO_GRADUACAO.describe()"
   ]
  },
  {
   "cell_type": "code",
   "execution_count": 10,
   "metadata": {},
   "outputs": [
    {
     "data": {
      "text/plain": [
       "4.0    17681\n",
       "3.0     3950\n",
       "1.0     1837\n",
       "2.0      384\n",
       "Name: CO_TURNO_GRADUACAO, dtype: int64"
      ]
     },
     "execution_count": 10,
     "metadata": {},
     "output_type": "execute_result"
    }
   ],
   "source": [
    "egeral.CO_TURNO_GRADUACAO.value_counts()"
   ]
  },
  {
   "cell_type": "code",
   "execution_count": 11,
   "metadata": {},
   "outputs": [
    {
     "data": {
      "text/plain": [
       "0"
      ]
     },
     "execution_count": 11,
     "metadata": {},
     "output_type": "execute_result"
    }
   ],
   "source": [
    "egeral.CO_TURNO_GRADUACAO.fillna(4, inplace=True)\n",
    "egeral.CO_TURNO_GRADUACAO.isnull().sum()"
   ]
  },
  {
   "cell_type": "markdown",
   "metadata": {},
   "source": [
    "<div class=\"alert alert-block alert-success\">\n",
    "<b>Como a quantidade de alunos com valor 4 (Noturno) é aproximadamente 75% de todo o dataset, então escolhi colocar os valores null desta coluna como 4 pois 136 instâncias não faria diferença absurda. </b>\n",
    "</div>"
   ]
  },
  {
   "cell_type": "code",
   "execution_count": 12,
   "metadata": {},
   "outputs": [],
   "source": [
    "colunas_notas = ['NT_GER', 'NT_FG', 'NT_OBJ_FG', 'NT_DIS_FG',\n",
    "       'NT_FG_D1', 'NT_FG_D1_PT', 'NT_FG_D1_CT', 'NT_FG_D2', 'NT_FG_D2_PT',\n",
    "       'NT_FG_D2_CT', 'NT_CE', 'NT_OBJ_CE', 'NT_DIS_CE', 'NT_CE_D1',\n",
    "       'NT_CE_D2', 'NT_CE_D3']\n",
    "\n",
    "colunas_Qcandidato = ['QE_I01', 'QE_I02', 'QE_I03', 'QE_I04',\n",
    "       'QE_I05', 'QE_I06', 'QE_I07', 'QE_I08', 'QE_I09', 'QE_I10', 'QE_I11',\n",
    "       'QE_I12', 'QE_I13', 'QE_I14', 'QE_I15', 'QE_I16', 'QE_I17', 'QE_I18',\n",
    "       'QE_I19', 'QE_I20', 'QE_I21', 'QE_I22', 'QE_I23', 'QE_I24', 'QE_I25',\n",
    "       'QE_I26']\n",
    "\n",
    "colunas_Qcurso = ['QE_I27', 'QE_I28', 'QE_I29', 'QE_I30', 'QE_I31', 'QE_I32',\n",
    "       'QE_I33', 'QE_I34', 'QE_I35', 'QE_I36', 'QE_I37', 'QE_I38', 'QE_I39',\n",
    "       'QE_I40', 'QE_I41', 'QE_I42', 'QE_I43', 'QE_I44', 'QE_I45', 'QE_I46',\n",
    "       'QE_I47', 'QE_I48', 'QE_I49', 'QE_I50', 'QE_I51', 'QE_I52', 'QE_I53',\n",
    "       'QE_I54', 'QE_I55', 'QE_I56', 'QE_I57', 'QE_I58', 'QE_I59', 'QE_I60',\n",
    "       'QE_I61', 'QE_I62', 'QE_I63', 'QE_I64', 'QE_I65', 'QE_I66', 'QE_I67',\n",
    "       'QE_I68']"
   ]
  },
  {
   "cell_type": "code",
   "execution_count": 13,
   "metadata": {},
   "outputs": [
    {
     "data": {
      "text/plain": [
       "NT_GER         9\n",
       "NT_FG          9\n",
       "NT_OBJ_FG      9\n",
       "NT_DIS_FG      9\n",
       "NT_FG_D1       9\n",
       "NT_FG_D1_PT    9\n",
       "NT_FG_D1_CT    9\n",
       "NT_FG_D2       9\n",
       "NT_FG_D2_PT    9\n",
       "NT_FG_D2_CT    9\n",
       "NT_CE          9\n",
       "NT_OBJ_CE      9\n",
       "NT_DIS_CE      9\n",
       "NT_CE_D1       9\n",
       "NT_CE_D2       9\n",
       "NT_CE_D3       9\n",
       "dtype: int64"
      ]
     },
     "execution_count": 13,
     "metadata": {},
     "output_type": "execute_result"
    }
   ],
   "source": [
    "egeral[colunas_notas].isnull().sum()"
   ]
  },
  {
   "cell_type": "code",
   "execution_count": 14,
   "metadata": {},
   "outputs": [
    {
     "name": "stdout",
     "output_type": "stream",
     "text": [
      "<class 'pandas.core.frame.DataFrame'>\n",
      "RangeIndex: 23988 entries, 0 to 23987\n",
      "Data columns (total 16 columns):\n",
      "NT_GER         23979 non-null float64\n",
      "NT_FG          23979 non-null float64\n",
      "NT_OBJ_FG      23979 non-null float64\n",
      "NT_DIS_FG      23979 non-null float64\n",
      "NT_FG_D1       23979 non-null float64\n",
      "NT_FG_D1_PT    23979 non-null float64\n",
      "NT_FG_D1_CT    23979 non-null float64\n",
      "NT_FG_D2       23979 non-null float64\n",
      "NT_FG_D2_PT    23979 non-null float64\n",
      "NT_FG_D2_CT    23979 non-null float64\n",
      "NT_CE          23979 non-null float64\n",
      "NT_OBJ_CE      23979 non-null float64\n",
      "NT_DIS_CE      23979 non-null float64\n",
      "NT_CE_D1       23979 non-null float64\n",
      "NT_CE_D2       23979 non-null float64\n",
      "NT_CE_D3       23979 non-null float64\n",
      "dtypes: float64(16)\n",
      "memory usage: 2.9 MB\n"
     ]
    }
   ],
   "source": [
    "egeral[colunas_notas].info()"
   ]
  },
  {
   "cell_type": "code",
   "execution_count": 15,
   "metadata": {},
   "outputs": [
    {
     "data": {
      "text/html": [
       "<div>\n",
       "<style scoped>\n",
       "    .dataframe tbody tr th:only-of-type {\n",
       "        vertical-align: middle;\n",
       "    }\n",
       "\n",
       "    .dataframe tbody tr th {\n",
       "        vertical-align: top;\n",
       "    }\n",
       "\n",
       "    .dataframe thead th {\n",
       "        text-align: right;\n",
       "    }\n",
       "</style>\n",
       "<table border=\"1\" class=\"dataframe\">\n",
       "  <thead>\n",
       "    <tr style=\"text-align: right;\">\n",
       "      <th></th>\n",
       "      <th>NT_GER</th>\n",
       "      <th>NT_FG</th>\n",
       "      <th>NT_OBJ_FG</th>\n",
       "      <th>NT_DIS_FG</th>\n",
       "      <th>NT_FG_D1</th>\n",
       "      <th>NT_FG_D1_PT</th>\n",
       "      <th>NT_FG_D1_CT</th>\n",
       "      <th>NT_FG_D2</th>\n",
       "      <th>NT_FG_D2_PT</th>\n",
       "      <th>NT_FG_D2_CT</th>\n",
       "      <th>NT_CE</th>\n",
       "      <th>NT_OBJ_CE</th>\n",
       "      <th>NT_DIS_CE</th>\n",
       "      <th>NT_CE_D1</th>\n",
       "      <th>NT_CE_D2</th>\n",
       "      <th>NT_CE_D3</th>\n",
       "    </tr>\n",
       "  </thead>\n",
       "  <tbody>\n",
       "    <tr>\n",
       "      <th>count</th>\n",
       "      <td>23979.000000</td>\n",
       "      <td>23979.000000</td>\n",
       "      <td>23979.000000</td>\n",
       "      <td>23979.000000</td>\n",
       "      <td>23979.000000</td>\n",
       "      <td>23979.000000</td>\n",
       "      <td>23979.000000</td>\n",
       "      <td>23979.000000</td>\n",
       "      <td>23979.000000</td>\n",
       "      <td>23979.000000</td>\n",
       "      <td>23979.000000</td>\n",
       "      <td>23979.000000</td>\n",
       "      <td>23979.000000</td>\n",
       "      <td>23979.000000</td>\n",
       "      <td>23979.000000</td>\n",
       "      <td>23979.000000</td>\n",
       "    </tr>\n",
       "    <tr>\n",
       "      <th>mean</th>\n",
       "      <td>41.781517</td>\n",
       "      <td>53.943042</td>\n",
       "      <td>52.575170</td>\n",
       "      <td>55.994850</td>\n",
       "      <td>57.612744</td>\n",
       "      <td>59.666583</td>\n",
       "      <td>57.201093</td>\n",
       "      <td>54.376955</td>\n",
       "      <td>54.619667</td>\n",
       "      <td>54.403853</td>\n",
       "      <td>37.711014</td>\n",
       "      <td>42.012678</td>\n",
       "      <td>13.320385</td>\n",
       "      <td>8.840444</td>\n",
       "      <td>25.397431</td>\n",
       "      <td>4.453272</td>\n",
       "    </tr>\n",
       "    <tr>\n",
       "      <th>std</th>\n",
       "      <td>12.699793</td>\n",
       "      <td>17.082992</td>\n",
       "      <td>21.341778</td>\n",
       "      <td>23.027135</td>\n",
       "      <td>24.792745</td>\n",
       "      <td>22.178989</td>\n",
       "      <td>26.842890</td>\n",
       "      <td>29.040287</td>\n",
       "      <td>24.893954</td>\n",
       "      <td>31.750414</td>\n",
       "      <td>13.810077</td>\n",
       "      <td>15.632813</td>\n",
       "      <td>9.935741</td>\n",
       "      <td>12.151015</td>\n",
       "      <td>15.906470</td>\n",
       "      <td>14.774111</td>\n",
       "    </tr>\n",
       "    <tr>\n",
       "      <th>min</th>\n",
       "      <td>0.000000</td>\n",
       "      <td>0.000000</td>\n",
       "      <td>0.000000</td>\n",
       "      <td>0.000000</td>\n",
       "      <td>0.000000</td>\n",
       "      <td>0.000000</td>\n",
       "      <td>0.000000</td>\n",
       "      <td>0.000000</td>\n",
       "      <td>0.000000</td>\n",
       "      <td>0.000000</td>\n",
       "      <td>0.000000</td>\n",
       "      <td>0.000000</td>\n",
       "      <td>0.000000</td>\n",
       "      <td>0.000000</td>\n",
       "      <td>0.000000</td>\n",
       "      <td>0.000000</td>\n",
       "    </tr>\n",
       "    <tr>\n",
       "      <th>25%</th>\n",
       "      <td>32.800000</td>\n",
       "      <td>42.700000</td>\n",
       "      <td>37.500000</td>\n",
       "      <td>45.000000</td>\n",
       "      <td>47.000000</td>\n",
       "      <td>55.000000</td>\n",
       "      <td>45.000000</td>\n",
       "      <td>42.000000</td>\n",
       "      <td>50.000000</td>\n",
       "      <td>45.000000</td>\n",
       "      <td>28.500000</td>\n",
       "      <td>31.800000</td>\n",
       "      <td>10.000000</td>\n",
       "      <td>0.000000</td>\n",
       "      <td>20.000000</td>\n",
       "      <td>0.000000</td>\n",
       "    </tr>\n",
       "    <tr>\n",
       "      <th>50%</th>\n",
       "      <td>41.000000</td>\n",
       "      <td>54.700000</td>\n",
       "      <td>50.000000</td>\n",
       "      <td>61.500000</td>\n",
       "      <td>63.000000</td>\n",
       "      <td>65.000000</td>\n",
       "      <td>60.000000</td>\n",
       "      <td>65.000000</td>\n",
       "      <td>60.000000</td>\n",
       "      <td>70.000000</td>\n",
       "      <td>36.500000</td>\n",
       "      <td>40.900000</td>\n",
       "      <td>11.700000</td>\n",
       "      <td>5.000000</td>\n",
       "      <td>30.000000</td>\n",
       "      <td>0.000000</td>\n",
       "    </tr>\n",
       "    <tr>\n",
       "      <th>75%</th>\n",
       "      <td>50.100000</td>\n",
       "      <td>66.100000</td>\n",
       "      <td>62.500000</td>\n",
       "      <td>72.500000</td>\n",
       "      <td>75.000000</td>\n",
       "      <td>75.000000</td>\n",
       "      <td>80.000000</td>\n",
       "      <td>73.000000</td>\n",
       "      <td>75.000000</td>\n",
       "      <td>75.000000</td>\n",
       "      <td>46.600000</td>\n",
       "      <td>50.000000</td>\n",
       "      <td>16.700000</td>\n",
       "      <td>10.000000</td>\n",
       "      <td>30.000000</td>\n",
       "      <td>0.000000</td>\n",
       "    </tr>\n",
       "    <tr>\n",
       "      <th>max</th>\n",
       "      <td>88.500000</td>\n",
       "      <td>98.800000</td>\n",
       "      <td>100.000000</td>\n",
       "      <td>98.000000</td>\n",
       "      <td>100.000000</td>\n",
       "      <td>100.000000</td>\n",
       "      <td>100.000000</td>\n",
       "      <td>100.000000</td>\n",
       "      <td>100.000000</td>\n",
       "      <td>100.000000</td>\n",
       "      <td>91.300000</td>\n",
       "      <td>100.000000</td>\n",
       "      <td>80.000000</td>\n",
       "      <td>100.000000</td>\n",
       "      <td>100.000000</td>\n",
       "      <td>100.000000</td>\n",
       "    </tr>\n",
       "  </tbody>\n",
       "</table>\n",
       "</div>"
      ],
      "text/plain": [
       "             NT_GER         NT_FG     NT_OBJ_FG     NT_DIS_FG      NT_FG_D1  \\\n",
       "count  23979.000000  23979.000000  23979.000000  23979.000000  23979.000000   \n",
       "mean      41.781517     53.943042     52.575170     55.994850     57.612744   \n",
       "std       12.699793     17.082992     21.341778     23.027135     24.792745   \n",
       "min        0.000000      0.000000      0.000000      0.000000      0.000000   \n",
       "25%       32.800000     42.700000     37.500000     45.000000     47.000000   \n",
       "50%       41.000000     54.700000     50.000000     61.500000     63.000000   \n",
       "75%       50.100000     66.100000     62.500000     72.500000     75.000000   \n",
       "max       88.500000     98.800000    100.000000     98.000000    100.000000   \n",
       "\n",
       "        NT_FG_D1_PT   NT_FG_D1_CT      NT_FG_D2   NT_FG_D2_PT   NT_FG_D2_CT  \\\n",
       "count  23979.000000  23979.000000  23979.000000  23979.000000  23979.000000   \n",
       "mean      59.666583     57.201093     54.376955     54.619667     54.403853   \n",
       "std       22.178989     26.842890     29.040287     24.893954     31.750414   \n",
       "min        0.000000      0.000000      0.000000      0.000000      0.000000   \n",
       "25%       55.000000     45.000000     42.000000     50.000000     45.000000   \n",
       "50%       65.000000     60.000000     65.000000     60.000000     70.000000   \n",
       "75%       75.000000     80.000000     73.000000     75.000000     75.000000   \n",
       "max      100.000000    100.000000    100.000000    100.000000    100.000000   \n",
       "\n",
       "              NT_CE     NT_OBJ_CE     NT_DIS_CE      NT_CE_D1      NT_CE_D2  \\\n",
       "count  23979.000000  23979.000000  23979.000000  23979.000000  23979.000000   \n",
       "mean      37.711014     42.012678     13.320385      8.840444     25.397431   \n",
       "std       13.810077     15.632813      9.935741     12.151015     15.906470   \n",
       "min        0.000000      0.000000      0.000000      0.000000      0.000000   \n",
       "25%       28.500000     31.800000     10.000000      0.000000     20.000000   \n",
       "50%       36.500000     40.900000     11.700000      5.000000     30.000000   \n",
       "75%       46.600000     50.000000     16.700000     10.000000     30.000000   \n",
       "max       91.300000    100.000000     80.000000    100.000000    100.000000   \n",
       "\n",
       "           NT_CE_D3  \n",
       "count  23979.000000  \n",
       "mean       4.453272  \n",
       "std       14.774111  \n",
       "min        0.000000  \n",
       "25%        0.000000  \n",
       "50%        0.000000  \n",
       "75%        0.000000  \n",
       "max      100.000000  "
      ]
     },
     "execution_count": 15,
     "metadata": {},
     "output_type": "execute_result"
    }
   ],
   "source": [
    "egeral[colunas_notas].describe()"
   ]
  },
  {
   "cell_type": "code",
   "execution_count": 16,
   "metadata": {},
   "outputs": [
    {
     "data": {
      "text/plain": [
       "0"
      ]
     },
     "execution_count": 16,
     "metadata": {},
     "output_type": "execute_result"
    }
   ],
   "source": [
    "median = egeral[colunas_notas].median()\n",
    "egeral[colunas_notas] = egeral[colunas_notas].fillna(median)\n",
    "egeral[colunas_notas].isnull().sum().sum()"
   ]
  },
  {
   "cell_type": "markdown",
   "metadata": {},
   "source": [
    "<div class=\"alert alert-block alert-success\">\n",
    "<b> Para as notas decidi colocar os valores da média de cada coluna pois o valor 0 é considerado como outlier na minha opnião.</b>\n",
    "</div>"
   ]
  },
  {
   "cell_type": "code",
   "execution_count": 17,
   "metadata": {},
   "outputs": [
    {
     "data": {
      "text/plain": [
       "QE_I01    230\n",
       "QE_I02    230\n",
       "QE_I03    230\n",
       "QE_I04    230\n",
       "QE_I05    230\n",
       "QE_I06    230\n",
       "QE_I07    230\n",
       "QE_I08    230\n",
       "QE_I09    230\n",
       "QE_I10    230\n",
       "QE_I11    230\n",
       "QE_I12    230\n",
       "QE_I13    230\n",
       "QE_I14    230\n",
       "QE_I15    230\n",
       "QE_I16    230\n",
       "QE_I17    230\n",
       "QE_I18    230\n",
       "QE_I19    230\n",
       "QE_I20    230\n",
       "QE_I21    230\n",
       "QE_I22    230\n",
       "QE_I23    230\n",
       "QE_I24    230\n",
       "QE_I25    230\n",
       "QE_I26    230\n",
       "dtype: int64"
      ]
     },
     "execution_count": 17,
     "metadata": {},
     "output_type": "execute_result"
    }
   ],
   "source": [
    "egeral[colunas_Qcandidato].isnull().sum()"
   ]
  },
  {
   "cell_type": "code",
   "execution_count": 18,
   "metadata": {
    "scrolled": true
   },
   "outputs": [
    {
     "name": "stdout",
     "output_type": "stream",
     "text": [
      "<class 'pandas.core.frame.DataFrame'>\n",
      "RangeIndex: 23988 entries, 0 to 23987\n",
      "Data columns (total 26 columns):\n",
      "QE_I01    23758 non-null object\n",
      "QE_I02    23758 non-null object\n",
      "QE_I03    23758 non-null object\n",
      "QE_I04    23758 non-null object\n",
      "QE_I05    23758 non-null object\n",
      "QE_I06    23758 non-null object\n",
      "QE_I07    23758 non-null object\n",
      "QE_I08    23758 non-null object\n",
      "QE_I09    23758 non-null object\n",
      "QE_I10    23758 non-null object\n",
      "QE_I11    23758 non-null object\n",
      "QE_I12    23758 non-null object\n",
      "QE_I13    23758 non-null object\n",
      "QE_I14    23758 non-null object\n",
      "QE_I15    23758 non-null object\n",
      "QE_I16    23758 non-null float64\n",
      "QE_I17    23758 non-null object\n",
      "QE_I18    23758 non-null object\n",
      "QE_I19    23758 non-null object\n",
      "QE_I20    23758 non-null object\n",
      "QE_I21    23758 non-null object\n",
      "QE_I22    23758 non-null object\n",
      "QE_I23    23758 non-null object\n",
      "QE_I24    23758 non-null object\n",
      "QE_I25    23758 non-null object\n",
      "QE_I26    23758 non-null object\n",
      "dtypes: float64(1), object(25)\n",
      "memory usage: 4.8+ MB\n"
     ]
    }
   ],
   "source": [
    "egeral[colunas_Qcandidato].info()"
   ]
  },
  {
   "cell_type": "markdown",
   "metadata": {},
   "source": [
    "<div class=\"alert alert-block alert-success\">\n",
    "    <b>Identificado uma pegadinha na coluna 'QE_I16'. Além disso, não está catalogada no dicionário do dataset. </b>\n",
    "</div>"
   ]
  },
  {
   "cell_type": "code",
   "execution_count": 19,
   "metadata": {},
   "outputs": [],
   "source": [
    "egeral.drop('QE_I16', axis=1, inplace=True)\n",
    "colunas_Qcandidato.remove('QE_I16')"
   ]
  },
  {
   "cell_type": "code",
   "execution_count": 20,
   "metadata": {},
   "outputs": [
    {
     "data": {
      "text/html": [
       "<div>\n",
       "<style scoped>\n",
       "    .dataframe tbody tr th:only-of-type {\n",
       "        vertical-align: middle;\n",
       "    }\n",
       "\n",
       "    .dataframe tbody tr th {\n",
       "        vertical-align: top;\n",
       "    }\n",
       "\n",
       "    .dataframe thead th {\n",
       "        text-align: right;\n",
       "    }\n",
       "</style>\n",
       "<table border=\"1\" class=\"dataframe\">\n",
       "  <thead>\n",
       "    <tr style=\"text-align: right;\">\n",
       "      <th></th>\n",
       "      <th>QE_I01</th>\n",
       "      <th>QE_I02</th>\n",
       "      <th>QE_I03</th>\n",
       "      <th>QE_I04</th>\n",
       "      <th>QE_I05</th>\n",
       "      <th>QE_I06</th>\n",
       "      <th>QE_I07</th>\n",
       "      <th>QE_I08</th>\n",
       "      <th>QE_I09</th>\n",
       "      <th>QE_I10</th>\n",
       "      <th>...</th>\n",
       "      <th>QE_I17</th>\n",
       "      <th>QE_I18</th>\n",
       "      <th>QE_I19</th>\n",
       "      <th>QE_I20</th>\n",
       "      <th>QE_I21</th>\n",
       "      <th>QE_I22</th>\n",
       "      <th>QE_I23</th>\n",
       "      <th>QE_I24</th>\n",
       "      <th>QE_I25</th>\n",
       "      <th>QE_I26</th>\n",
       "    </tr>\n",
       "  </thead>\n",
       "  <tbody>\n",
       "    <tr>\n",
       "      <th>count</th>\n",
       "      <td>23758</td>\n",
       "      <td>23758</td>\n",
       "      <td>23758</td>\n",
       "      <td>23758</td>\n",
       "      <td>23758</td>\n",
       "      <td>23758</td>\n",
       "      <td>23758</td>\n",
       "      <td>23758</td>\n",
       "      <td>23758</td>\n",
       "      <td>23758</td>\n",
       "      <td>...</td>\n",
       "      <td>23758</td>\n",
       "      <td>23758</td>\n",
       "      <td>23758</td>\n",
       "      <td>23758</td>\n",
       "      <td>23758</td>\n",
       "      <td>23758</td>\n",
       "      <td>23758</td>\n",
       "      <td>23758</td>\n",
       "      <td>23758</td>\n",
       "      <td>23758</td>\n",
       "    </tr>\n",
       "    <tr>\n",
       "      <th>unique</th>\n",
       "      <td>5</td>\n",
       "      <td>6</td>\n",
       "      <td>3</td>\n",
       "      <td>6</td>\n",
       "      <td>6</td>\n",
       "      <td>6</td>\n",
       "      <td>8</td>\n",
       "      <td>7</td>\n",
       "      <td>6</td>\n",
       "      <td>5</td>\n",
       "      <td>...</td>\n",
       "      <td>6</td>\n",
       "      <td>5</td>\n",
       "      <td>7</td>\n",
       "      <td>11</td>\n",
       "      <td>2</td>\n",
       "      <td>5</td>\n",
       "      <td>5</td>\n",
       "      <td>5</td>\n",
       "      <td>8</td>\n",
       "      <td>9</td>\n",
       "    </tr>\n",
       "    <tr>\n",
       "      <th>top</th>\n",
       "      <td>A</td>\n",
       "      <td>A</td>\n",
       "      <td>A</td>\n",
       "      <td>D</td>\n",
       "      <td>D</td>\n",
       "      <td>B</td>\n",
       "      <td>D</td>\n",
       "      <td>C</td>\n",
       "      <td>C</td>\n",
       "      <td>E</td>\n",
       "      <td>...</td>\n",
       "      <td>A</td>\n",
       "      <td>A</td>\n",
       "      <td>B</td>\n",
       "      <td>C</td>\n",
       "      <td>A</td>\n",
       "      <td>B</td>\n",
       "      <td>B</td>\n",
       "      <td>E</td>\n",
       "      <td>A</td>\n",
       "      <td>F</td>\n",
       "    </tr>\n",
       "    <tr>\n",
       "      <th>freq</th>\n",
       "      <td>17681</td>\n",
       "      <td>14909</td>\n",
       "      <td>23538</td>\n",
       "      <td>8429</td>\n",
       "      <td>8393</td>\n",
       "      <td>13839</td>\n",
       "      <td>6222</td>\n",
       "      <td>5667</td>\n",
       "      <td>7856</td>\n",
       "      <td>12384</td>\n",
       "      <td>...</td>\n",
       "      <td>13399</td>\n",
       "      <td>19543</td>\n",
       "      <td>16146</td>\n",
       "      <td>10404</td>\n",
       "      <td>16849</td>\n",
       "      <td>10152</td>\n",
       "      <td>10582</td>\n",
       "      <td>15061</td>\n",
       "      <td>9929</td>\n",
       "      <td>9606</td>\n",
       "    </tr>\n",
       "  </tbody>\n",
       "</table>\n",
       "<p>4 rows × 25 columns</p>\n",
       "</div>"
      ],
      "text/plain": [
       "       QE_I01 QE_I02 QE_I03 QE_I04 QE_I05 QE_I06 QE_I07 QE_I08 QE_I09 QE_I10  \\\n",
       "count   23758  23758  23758  23758  23758  23758  23758  23758  23758  23758   \n",
       "unique      5      6      3      6      6      6      8      7      6      5   \n",
       "top         A      A      A      D      D      B      D      C      C      E   \n",
       "freq    17681  14909  23538   8429   8393  13839   6222   5667   7856  12384   \n",
       "\n",
       "        ... QE_I17 QE_I18 QE_I19 QE_I20 QE_I21 QE_I22 QE_I23 QE_I24 QE_I25  \\\n",
       "count   ...  23758  23758  23758  23758  23758  23758  23758  23758  23758   \n",
       "unique  ...      6      5      7     11      2      5      5      5      8   \n",
       "top     ...      A      A      B      C      A      B      B      E      A   \n",
       "freq    ...  13399  19543  16146  10404  16849  10152  10582  15061   9929   \n",
       "\n",
       "       QE_I26  \n",
       "count   23758  \n",
       "unique      9  \n",
       "top         F  \n",
       "freq     9606  \n",
       "\n",
       "[4 rows x 25 columns]"
      ]
     },
     "execution_count": 20,
     "metadata": {},
     "output_type": "execute_result"
    }
   ],
   "source": [
    "egeral[colunas_Qcandidato].describe()"
   ]
  },
  {
   "cell_type": "code",
   "execution_count": 21,
   "metadata": {},
   "outputs": [
    {
     "data": {
      "text/plain": [
       "0"
      ]
     },
     "execution_count": 21,
     "metadata": {},
     "output_type": "execute_result"
    }
   ],
   "source": [
    "egeral[colunas_Qcandidato] = egeral[colunas_Qcandidato].fillna('Z')\n",
    "egeral[colunas_Qcandidato].isnull().sum().sum()"
   ]
  },
  {
   "cell_type": "code",
   "execution_count": 22,
   "metadata": {},
   "outputs": [
    {
     "data": {
      "text/plain": [
       "QE_I27    230\n",
       "QE_I28    230\n",
       "QE_I29    230\n",
       "QE_I30    230\n",
       "QE_I31    230\n",
       "QE_I32    230\n",
       "QE_I33    230\n",
       "QE_I34    230\n",
       "QE_I35    230\n",
       "QE_I36    230\n",
       "QE_I37    230\n",
       "QE_I38    230\n",
       "QE_I39    230\n",
       "QE_I40    230\n",
       "QE_I41    230\n",
       "QE_I42    230\n",
       "QE_I43    230\n",
       "QE_I44    230\n",
       "QE_I45    230\n",
       "QE_I46    230\n",
       "QE_I47    230\n",
       "QE_I48    230\n",
       "QE_I49    230\n",
       "QE_I50    230\n",
       "QE_I51    230\n",
       "QE_I52    230\n",
       "QE_I53    230\n",
       "QE_I54    230\n",
       "QE_I55    230\n",
       "QE_I56    230\n",
       "QE_I57    230\n",
       "QE_I58    230\n",
       "QE_I59    230\n",
       "QE_I60    230\n",
       "QE_I61    230\n",
       "QE_I62    230\n",
       "QE_I63    230\n",
       "QE_I64    230\n",
       "QE_I65    230\n",
       "QE_I66    230\n",
       "QE_I67    230\n",
       "QE_I68    230\n",
       "dtype: int64"
      ]
     },
     "execution_count": 22,
     "metadata": {},
     "output_type": "execute_result"
    }
   ],
   "source": [
    "egeral[colunas_Qcurso].isnull().sum()"
   ]
  },
  {
   "cell_type": "code",
   "execution_count": 23,
   "metadata": {},
   "outputs": [
    {
     "name": "stdout",
     "output_type": "stream",
     "text": [
      "<class 'pandas.core.frame.DataFrame'>\n",
      "RangeIndex: 23988 entries, 0 to 23987\n",
      "Data columns (total 42 columns):\n",
      "QE_I27    23758 non-null float64\n",
      "QE_I28    23758 non-null float64\n",
      "QE_I29    23758 non-null float64\n",
      "QE_I30    23758 non-null float64\n",
      "QE_I31    23758 non-null float64\n",
      "QE_I32    23758 non-null float64\n",
      "QE_I33    23758 non-null float64\n",
      "QE_I34    23758 non-null float64\n",
      "QE_I35    23758 non-null float64\n",
      "QE_I36    23758 non-null float64\n",
      "QE_I37    23758 non-null float64\n",
      "QE_I38    23758 non-null float64\n",
      "QE_I39    23758 non-null float64\n",
      "QE_I40    23758 non-null float64\n",
      "QE_I41    23758 non-null float64\n",
      "QE_I42    23758 non-null float64\n",
      "QE_I43    23758 non-null float64\n",
      "QE_I44    23758 non-null float64\n",
      "QE_I45    23758 non-null float64\n",
      "QE_I46    23758 non-null float64\n",
      "QE_I47    23758 non-null float64\n",
      "QE_I48    23758 non-null float64\n",
      "QE_I49    23758 non-null float64\n",
      "QE_I50    23758 non-null float64\n",
      "QE_I51    23758 non-null float64\n",
      "QE_I52    23758 non-null float64\n",
      "QE_I53    23758 non-null float64\n",
      "QE_I54    23758 non-null float64\n",
      "QE_I55    23758 non-null float64\n",
      "QE_I56    23758 non-null float64\n",
      "QE_I57    23758 non-null float64\n",
      "QE_I58    23758 non-null float64\n",
      "QE_I59    23758 non-null float64\n",
      "QE_I60    23758 non-null float64\n",
      "QE_I61    23758 non-null float64\n",
      "QE_I62    23758 non-null float64\n",
      "QE_I63    23758 non-null float64\n",
      "QE_I64    23758 non-null float64\n",
      "QE_I65    23758 non-null float64\n",
      "QE_I66    23758 non-null float64\n",
      "QE_I67    23758 non-null float64\n",
      "QE_I68    23758 non-null float64\n",
      "dtypes: float64(42)\n",
      "memory usage: 7.7 MB\n"
     ]
    }
   ],
   "source": [
    "egeral[colunas_Qcurso].info()"
   ]
  },
  {
   "cell_type": "code",
   "execution_count": 24,
   "metadata": {},
   "outputs": [
    {
     "data": {
      "text/html": [
       "<div>\n",
       "<style scoped>\n",
       "    .dataframe tbody tr th:only-of-type {\n",
       "        vertical-align: middle;\n",
       "    }\n",
       "\n",
       "    .dataframe tbody tr th {\n",
       "        vertical-align: top;\n",
       "    }\n",
       "\n",
       "    .dataframe thead th {\n",
       "        text-align: right;\n",
       "    }\n",
       "</style>\n",
       "<table border=\"1\" class=\"dataframe\">\n",
       "  <thead>\n",
       "    <tr style=\"text-align: right;\">\n",
       "      <th></th>\n",
       "      <th>QE_I27</th>\n",
       "      <th>QE_I28</th>\n",
       "      <th>QE_I29</th>\n",
       "      <th>QE_I30</th>\n",
       "      <th>QE_I31</th>\n",
       "      <th>QE_I32</th>\n",
       "      <th>QE_I33</th>\n",
       "      <th>QE_I34</th>\n",
       "      <th>QE_I35</th>\n",
       "      <th>QE_I36</th>\n",
       "      <th>...</th>\n",
       "      <th>QE_I59</th>\n",
       "      <th>QE_I60</th>\n",
       "      <th>QE_I61</th>\n",
       "      <th>QE_I62</th>\n",
       "      <th>QE_I63</th>\n",
       "      <th>QE_I64</th>\n",
       "      <th>QE_I65</th>\n",
       "      <th>QE_I66</th>\n",
       "      <th>QE_I67</th>\n",
       "      <th>QE_I68</th>\n",
       "    </tr>\n",
       "  </thead>\n",
       "  <tbody>\n",
       "    <tr>\n",
       "      <th>count</th>\n",
       "      <td>23758.000000</td>\n",
       "      <td>23758.000000</td>\n",
       "      <td>23758.000000</td>\n",
       "      <td>23758.000000</td>\n",
       "      <td>23758.000000</td>\n",
       "      <td>23758.000000</td>\n",
       "      <td>23758.000000</td>\n",
       "      <td>23758.000000</td>\n",
       "      <td>23758.000000</td>\n",
       "      <td>23758.000000</td>\n",
       "      <td>...</td>\n",
       "      <td>23758.000000</td>\n",
       "      <td>23758.000000</td>\n",
       "      <td>23758.000000</td>\n",
       "      <td>23758.000000</td>\n",
       "      <td>23758.000000</td>\n",
       "      <td>23758.000000</td>\n",
       "      <td>23758.000000</td>\n",
       "      <td>23758.000000</td>\n",
       "      <td>23758.000000</td>\n",
       "      <td>23758.000000</td>\n",
       "    </tr>\n",
       "    <tr>\n",
       "      <th>mean</th>\n",
       "      <td>5.234784</td>\n",
       "      <td>5.186253</td>\n",
       "      <td>4.934464</td>\n",
       "      <td>4.866824</td>\n",
       "      <td>5.207214</td>\n",
       "      <td>5.405337</td>\n",
       "      <td>5.316272</td>\n",
       "      <td>5.243497</td>\n",
       "      <td>5.232974</td>\n",
       "      <td>5.210582</td>\n",
       "      <td>...</td>\n",
       "      <td>4.994949</td>\n",
       "      <td>4.898182</td>\n",
       "      <td>4.986447</td>\n",
       "      <td>4.884081</td>\n",
       "      <td>4.906305</td>\n",
       "      <td>5.247832</td>\n",
       "      <td>5.181960</td>\n",
       "      <td>5.162935</td>\n",
       "      <td>4.850998</td>\n",
       "      <td>5.079973</td>\n",
       "    </tr>\n",
       "    <tr>\n",
       "      <th>std</th>\n",
       "      <td>0.990173</td>\n",
       "      <td>1.143985</td>\n",
       "      <td>1.214797</td>\n",
       "      <td>1.292325</td>\n",
       "      <td>1.087355</td>\n",
       "      <td>0.975186</td>\n",
       "      <td>0.978007</td>\n",
       "      <td>1.049965</td>\n",
       "      <td>1.039755</td>\n",
       "      <td>1.018445</td>\n",
       "      <td>...</td>\n",
       "      <td>1.325588</td>\n",
       "      <td>1.431059</td>\n",
       "      <td>1.267943</td>\n",
       "      <td>1.426022</td>\n",
       "      <td>1.419048</td>\n",
       "      <td>1.098522</td>\n",
       "      <td>1.453556</td>\n",
       "      <td>1.208149</td>\n",
       "      <td>1.561611</td>\n",
       "      <td>1.346799</td>\n",
       "    </tr>\n",
       "    <tr>\n",
       "      <th>min</th>\n",
       "      <td>1.000000</td>\n",
       "      <td>1.000000</td>\n",
       "      <td>1.000000</td>\n",
       "      <td>1.000000</td>\n",
       "      <td>1.000000</td>\n",
       "      <td>1.000000</td>\n",
       "      <td>1.000000</td>\n",
       "      <td>1.000000</td>\n",
       "      <td>1.000000</td>\n",
       "      <td>1.000000</td>\n",
       "      <td>...</td>\n",
       "      <td>1.000000</td>\n",
       "      <td>1.000000</td>\n",
       "      <td>1.000000</td>\n",
       "      <td>1.000000</td>\n",
       "      <td>1.000000</td>\n",
       "      <td>1.000000</td>\n",
       "      <td>1.000000</td>\n",
       "      <td>1.000000</td>\n",
       "      <td>1.000000</td>\n",
       "      <td>1.000000</td>\n",
       "    </tr>\n",
       "    <tr>\n",
       "      <th>25%</th>\n",
       "      <td>5.000000</td>\n",
       "      <td>5.000000</td>\n",
       "      <td>4.000000</td>\n",
       "      <td>4.000000</td>\n",
       "      <td>5.000000</td>\n",
       "      <td>5.000000</td>\n",
       "      <td>5.000000</td>\n",
       "      <td>5.000000</td>\n",
       "      <td>5.000000</td>\n",
       "      <td>5.000000</td>\n",
       "      <td>...</td>\n",
       "      <td>4.000000</td>\n",
       "      <td>4.000000</td>\n",
       "      <td>4.000000</td>\n",
       "      <td>4.000000</td>\n",
       "      <td>4.000000</td>\n",
       "      <td>5.000000</td>\n",
       "      <td>5.000000</td>\n",
       "      <td>5.000000</td>\n",
       "      <td>4.000000</td>\n",
       "      <td>4.000000</td>\n",
       "    </tr>\n",
       "    <tr>\n",
       "      <th>50%</th>\n",
       "      <td>6.000000</td>\n",
       "      <td>5.000000</td>\n",
       "      <td>5.000000</td>\n",
       "      <td>5.000000</td>\n",
       "      <td>6.000000</td>\n",
       "      <td>6.000000</td>\n",
       "      <td>6.000000</td>\n",
       "      <td>6.000000</td>\n",
       "      <td>6.000000</td>\n",
       "      <td>5.000000</td>\n",
       "      <td>...</td>\n",
       "      <td>5.000000</td>\n",
       "      <td>5.000000</td>\n",
       "      <td>5.000000</td>\n",
       "      <td>5.000000</td>\n",
       "      <td>5.000000</td>\n",
       "      <td>6.000000</td>\n",
       "      <td>6.000000</td>\n",
       "      <td>6.000000</td>\n",
       "      <td>5.000000</td>\n",
       "      <td>6.000000</td>\n",
       "    </tr>\n",
       "    <tr>\n",
       "      <th>75%</th>\n",
       "      <td>6.000000</td>\n",
       "      <td>6.000000</td>\n",
       "      <td>6.000000</td>\n",
       "      <td>6.000000</td>\n",
       "      <td>6.000000</td>\n",
       "      <td>6.000000</td>\n",
       "      <td>6.000000</td>\n",
       "      <td>6.000000</td>\n",
       "      <td>6.000000</td>\n",
       "      <td>6.000000</td>\n",
       "      <td>...</td>\n",
       "      <td>6.000000</td>\n",
       "      <td>6.000000</td>\n",
       "      <td>6.000000</td>\n",
       "      <td>6.000000</td>\n",
       "      <td>6.000000</td>\n",
       "      <td>6.000000</td>\n",
       "      <td>6.000000</td>\n",
       "      <td>6.000000</td>\n",
       "      <td>6.000000</td>\n",
       "      <td>6.000000</td>\n",
       "    </tr>\n",
       "    <tr>\n",
       "      <th>max</th>\n",
       "      <td>8.000000</td>\n",
       "      <td>8.000000</td>\n",
       "      <td>8.000000</td>\n",
       "      <td>8.000000</td>\n",
       "      <td>8.000000</td>\n",
       "      <td>8.000000</td>\n",
       "      <td>8.000000</td>\n",
       "      <td>8.000000</td>\n",
       "      <td>8.000000</td>\n",
       "      <td>8.000000</td>\n",
       "      <td>...</td>\n",
       "      <td>8.000000</td>\n",
       "      <td>8.000000</td>\n",
       "      <td>8.000000</td>\n",
       "      <td>8.000000</td>\n",
       "      <td>8.000000</td>\n",
       "      <td>8.000000</td>\n",
       "      <td>8.000000</td>\n",
       "      <td>8.000000</td>\n",
       "      <td>8.000000</td>\n",
       "      <td>8.000000</td>\n",
       "    </tr>\n",
       "  </tbody>\n",
       "</table>\n",
       "<p>8 rows × 42 columns</p>\n",
       "</div>"
      ],
      "text/plain": [
       "             QE_I27        QE_I28        QE_I29        QE_I30        QE_I31  \\\n",
       "count  23758.000000  23758.000000  23758.000000  23758.000000  23758.000000   \n",
       "mean       5.234784      5.186253      4.934464      4.866824      5.207214   \n",
       "std        0.990173      1.143985      1.214797      1.292325      1.087355   \n",
       "min        1.000000      1.000000      1.000000      1.000000      1.000000   \n",
       "25%        5.000000      5.000000      4.000000      4.000000      5.000000   \n",
       "50%        6.000000      5.000000      5.000000      5.000000      6.000000   \n",
       "75%        6.000000      6.000000      6.000000      6.000000      6.000000   \n",
       "max        8.000000      8.000000      8.000000      8.000000      8.000000   \n",
       "\n",
       "             QE_I32        QE_I33        QE_I34        QE_I35        QE_I36  \\\n",
       "count  23758.000000  23758.000000  23758.000000  23758.000000  23758.000000   \n",
       "mean       5.405337      5.316272      5.243497      5.232974      5.210582   \n",
       "std        0.975186      0.978007      1.049965      1.039755      1.018445   \n",
       "min        1.000000      1.000000      1.000000      1.000000      1.000000   \n",
       "25%        5.000000      5.000000      5.000000      5.000000      5.000000   \n",
       "50%        6.000000      6.000000      6.000000      6.000000      5.000000   \n",
       "75%        6.000000      6.000000      6.000000      6.000000      6.000000   \n",
       "max        8.000000      8.000000      8.000000      8.000000      8.000000   \n",
       "\n",
       "       ...        QE_I59        QE_I60        QE_I61        QE_I62  \\\n",
       "count  ...  23758.000000  23758.000000  23758.000000  23758.000000   \n",
       "mean   ...      4.994949      4.898182      4.986447      4.884081   \n",
       "std    ...      1.325588      1.431059      1.267943      1.426022   \n",
       "min    ...      1.000000      1.000000      1.000000      1.000000   \n",
       "25%    ...      4.000000      4.000000      4.000000      4.000000   \n",
       "50%    ...      5.000000      5.000000      5.000000      5.000000   \n",
       "75%    ...      6.000000      6.000000      6.000000      6.000000   \n",
       "max    ...      8.000000      8.000000      8.000000      8.000000   \n",
       "\n",
       "             QE_I63        QE_I64        QE_I65        QE_I66        QE_I67  \\\n",
       "count  23758.000000  23758.000000  23758.000000  23758.000000  23758.000000   \n",
       "mean       4.906305      5.247832      5.181960      5.162935      4.850998   \n",
       "std        1.419048      1.098522      1.453556      1.208149      1.561611   \n",
       "min        1.000000      1.000000      1.000000      1.000000      1.000000   \n",
       "25%        4.000000      5.000000      5.000000      5.000000      4.000000   \n",
       "50%        5.000000      6.000000      6.000000      6.000000      5.000000   \n",
       "75%        6.000000      6.000000      6.000000      6.000000      6.000000   \n",
       "max        8.000000      8.000000      8.000000      8.000000      8.000000   \n",
       "\n",
       "             QE_I68  \n",
       "count  23758.000000  \n",
       "mean       5.079973  \n",
       "std        1.346799  \n",
       "min        1.000000  \n",
       "25%        4.000000  \n",
       "50%        6.000000  \n",
       "75%        6.000000  \n",
       "max        8.000000  \n",
       "\n",
       "[8 rows x 42 columns]"
      ]
     },
     "execution_count": 24,
     "metadata": {},
     "output_type": "execute_result"
    }
   ],
   "source": [
    "egeral[colunas_Qcurso].describe()"
   ]
  },
  {
   "cell_type": "code",
   "execution_count": 25,
   "metadata": {},
   "outputs": [
    {
     "data": {
      "text/plain": [
       "0"
      ]
     },
     "execution_count": 25,
     "metadata": {},
     "output_type": "execute_result"
    }
   ],
   "source": [
    "egeral[colunas_Qcurso] = egeral[colunas_Qcurso].fillna(7)\n",
    "egeral[colunas_Qcurso].isnull().sum().sum()"
   ]
  },
  {
   "cell_type": "code",
   "execution_count": 26,
   "metadata": {},
   "outputs": [
    {
     "data": {
      "text/plain": [
       "Index([], dtype='object')"
      ]
     },
     "execution_count": 26,
     "metadata": {},
     "output_type": "execute_result"
    }
   ],
   "source": [
    "egeral.columns[egeral.isnull().any()]"
   ]
  },
  {
   "cell_type": "code",
   "execution_count": 27,
   "metadata": {},
   "outputs": [
    {
     "data": {
      "text/plain": [
       "0"
      ]
     },
     "execution_count": 27,
     "metadata": {},
     "output_type": "execute_result"
    }
   ],
   "source": [
    "egeral.isnull().sum().sum()"
   ]
  },
  {
   "cell_type": "markdown",
   "metadata": {
    "collapsed": true
   },
   "source": [
    "#### Consultando os dados e comparando distribuições"
   ]
  },
  {
   "cell_type": "markdown",
   "metadata": {},
   "source": [
    "<div class=\"alert alert-info\">\n",
    "<b>3</b> - Considerando as distribuições de notas, quem se saiu melhor, os alunos da modalidade presencial ou à distância? _Dica_: boxplots são ótimos para comparar distribuições\n",
    "</div>"
   ]
  },
  {
   "cell_type": "markdown",
   "metadata": {},
   "source": [
    "Para várias questões a partir daqui, vamos eventualmente usar um dataframe extra, onde criamos colunas novas, em geral, que servem para fornecer descrição para outra colunas."
   ]
  },
  {
   "cell_type": "code",
   "execution_count": 28,
   "metadata": {},
   "outputs": [
    {
     "data": {
      "text/html": [
       "<div>\n",
       "<style scoped>\n",
       "    .dataframe tbody tr th:only-of-type {\n",
       "        vertical-align: middle;\n",
       "    }\n",
       "\n",
       "    .dataframe tbody tr th {\n",
       "        vertical-align: top;\n",
       "    }\n",
       "\n",
       "    .dataframe thead th {\n",
       "        text-align: right;\n",
       "    }\n",
       "</style>\n",
       "<table border=\"1\" class=\"dataframe\">\n",
       "  <thead>\n",
       "    <tr style=\"text-align: right;\">\n",
       "      <th></th>\n",
       "      <th>CO_MODALIDADE</th>\n",
       "      <th>Notas</th>\n",
       "      <th>value</th>\n",
       "    </tr>\n",
       "  </thead>\n",
       "  <tbody>\n",
       "    <tr>\n",
       "      <th>0</th>\n",
       "      <td>1</td>\n",
       "      <td>NT_GER</td>\n",
       "      <td>55.6</td>\n",
       "    </tr>\n",
       "    <tr>\n",
       "      <th>1</th>\n",
       "      <td>1</td>\n",
       "      <td>NT_GER</td>\n",
       "      <td>72.6</td>\n",
       "    </tr>\n",
       "    <tr>\n",
       "      <th>2</th>\n",
       "      <td>1</td>\n",
       "      <td>NT_GER</td>\n",
       "      <td>50.3</td>\n",
       "    </tr>\n",
       "    <tr>\n",
       "      <th>3</th>\n",
       "      <td>1</td>\n",
       "      <td>NT_GER</td>\n",
       "      <td>45.2</td>\n",
       "    </tr>\n",
       "    <tr>\n",
       "      <th>4</th>\n",
       "      <td>1</td>\n",
       "      <td>NT_GER</td>\n",
       "      <td>40.9</td>\n",
       "    </tr>\n",
       "  </tbody>\n",
       "</table>\n",
       "</div>"
      ],
      "text/plain": [
       "   CO_MODALIDADE   Notas  value\n",
       "0              1  NT_GER   55.6\n",
       "1              1  NT_GER   72.6\n",
       "2              1  NT_GER   50.3\n",
       "3              1  NT_GER   45.2\n",
       "4              1  NT_GER   40.9"
      ]
     },
     "execution_count": 28,
     "metadata": {},
     "output_type": "execute_result"
    }
   ],
   "source": [
    "notas = egeral[['CO_MODALIDADE', 'NT_GER', 'NT_FG', 'NT_CE']]\n",
    "aux_df = pd.melt(notas, id_vars=['CO_MODALIDADE'], var_name=['Notas'])\n",
    "aux_df.head()"
   ]
  },
  {
   "cell_type": "code",
   "execution_count": 29,
   "metadata": {},
   "outputs": [
    {
     "data": {
      "image/png": "[encoded data removed]",
      "text/plain": [
       "<Figure size 1152x576 with 1 Axes>"
      ]
     },
     "metadata": {
      "needs_background": "light"
     },
     "output_type": "display_data"
    }
   ],
   "source": [
    "plt.figure(figsize=(16, 8))\n",
    "\n",
    "ax = sns.boxplot(x=\"CO_MODALIDADE\", y=\"value\", hue=\"Notas\", data=aux_df, width=0.6)\n",
    "ax.axes.set_title(\"Enade 2017 (Eng. de Produção): Modalidade Vs Notas\", fontsize=16)\n",
    "ax.set_xlabel(\"Modalidade\", fontsize=14)\n",
    "ax.set_ylabel(\"Notas\", fontsize=14)\n",
    "ax.set_xticklabels(['À distância','Presencial'])\n",
    "ax.tick_params(labelsize=10)"
   ]
  },
  {
   "cell_type": "markdown",
   "metadata": {},
   "source": [
    "Explique os resultados obtidos."
   ]
  },
  {
   "cell_type": "markdown",
   "metadata": {},
   "source": [
    "<div class=\"alert alert-block alert-success\">\n",
    "<b>O boxplot gerado acima teve como objetivo comparar as distribuições entres as notas brutas da prova (Azul), notas brutas da formação geral (Laranja) e notas brutas no componente específico (Verde). São as variáveis que acredito serem mais importantes entre as notas.<br><br>\n",
    "\n",
    "Analisando o gráfico, podemos concluir que as distribuições seguem uma distribuição gaussiana e que em geral os alunos da modalidade \"à distância\" se saíram melhor do que os alunos da modalidade presencial. Mesmo que os dados dos alunos na modalidade à distância tenha mais outliers do que os dados presenciais, nota-se que as distribuições das notas brutas específicas nas duas modalidades foram bastante similares, enquanto que nas outras duas notas percebe-se uma pequena diferença onde as notas dos alunos da modalidade à distância tende a ser maior tanto nas notas brutas na formação em geral quanto na notas brutas da prova (que é a variável mais importante).</b>\n",
    "</div>"
   ]
  },
  {
   "cell_type": "markdown",
   "metadata": {},
   "source": [
    "<div class=\"alert alert-info\">\n",
    "<b>4</b> - Novamente considere as distribuições de notas. Como se comparam os alunos do turno noturno com os dos demais turnos? Há mais alunos estudando ao dia ou à noite? \n",
    "</div> "
   ]
  },
  {
   "cell_type": "markdown",
   "metadata": {},
   "source": [
    "<div class=\"alert alert-block alert-success\">\n",
    "    <b>Podemos criar outro boxplot entre notas e turnos. Para verificar a quantidade podemos utilizar a função value_counts.</b>\n",
    "</div>"
   ]
  },
  {
   "cell_type": "code",
   "execution_count": 30,
   "metadata": {},
   "outputs": [
    {
     "data": {
      "text/html": [
       "<div>\n",
       "<style scoped>\n",
       "    .dataframe tbody tr th:only-of-type {\n",
       "        vertical-align: middle;\n",
       "    }\n",
       "\n",
       "    .dataframe tbody tr th {\n",
       "        vertical-align: top;\n",
       "    }\n",
       "\n",
       "    .dataframe thead th {\n",
       "        text-align: right;\n",
       "    }\n",
       "</style>\n",
       "<table border=\"1\" class=\"dataframe\">\n",
       "  <thead>\n",
       "    <tr style=\"text-align: right;\">\n",
       "      <th></th>\n",
       "      <th>CO_TURNO_GRADUACAO</th>\n",
       "      <th>Notas</th>\n",
       "      <th>value</th>\n",
       "    </tr>\n",
       "  </thead>\n",
       "  <tbody>\n",
       "    <tr>\n",
       "      <th>0</th>\n",
       "      <td>3.0</td>\n",
       "      <td>NT_GER</td>\n",
       "      <td>55.6</td>\n",
       "    </tr>\n",
       "    <tr>\n",
       "      <th>1</th>\n",
       "      <td>3.0</td>\n",
       "      <td>NT_GER</td>\n",
       "      <td>72.6</td>\n",
       "    </tr>\n",
       "    <tr>\n",
       "      <th>2</th>\n",
       "      <td>3.0</td>\n",
       "      <td>NT_GER</td>\n",
       "      <td>50.3</td>\n",
       "    </tr>\n",
       "    <tr>\n",
       "      <th>3</th>\n",
       "      <td>3.0</td>\n",
       "      <td>NT_GER</td>\n",
       "      <td>45.2</td>\n",
       "    </tr>\n",
       "    <tr>\n",
       "      <th>4</th>\n",
       "      <td>3.0</td>\n",
       "      <td>NT_GER</td>\n",
       "      <td>40.9</td>\n",
       "    </tr>\n",
       "  </tbody>\n",
       "</table>\n",
       "</div>"
      ],
      "text/plain": [
       "   CO_TURNO_GRADUACAO   Notas  value\n",
       "0                 3.0  NT_GER   55.6\n",
       "1                 3.0  NT_GER   72.6\n",
       "2                 3.0  NT_GER   50.3\n",
       "3                 3.0  NT_GER   45.2\n",
       "4                 3.0  NT_GER   40.9"
      ]
     },
     "execution_count": 30,
     "metadata": {},
     "output_type": "execute_result"
    }
   ],
   "source": [
    "notas_vs_turnos = egeral[['CO_TURNO_GRADUACAO', 'NT_GER', 'NT_FG', 'NT_CE']]\n",
    "aux_df = pd.melt(notas_vs_turnos, id_vars=['CO_TURNO_GRADUACAO'], var_name=['Notas'])\n",
    "aux_df.head()"
   ]
  },
  {
   "cell_type": "code",
   "execution_count": 31,
   "metadata": {},
   "outputs": [
    {
     "data": {
      "image/png": "[encoded data removed]",
      "text/plain": [
       "<Figure size 1152x576 with 1 Axes>"
      ]
     },
     "metadata": {
      "needs_background": "light"
     },
     "output_type": "display_data"
    }
   ],
   "source": [
    "plt.figure(figsize=(16, 8))\n",
    "\n",
    "ax = sns.boxplot(x=\"CO_TURNO_GRADUACAO\", y=\"value\", hue=\"Notas\", data=aux_df, width=0.6)\n",
    "ax.axes.set_title(\"Enade 2017 (Eng. de Produção): Turnos Vs Notas\", fontsize=16)\n",
    "ax.set_xlabel(\"Turnos\", fontsize=14)\n",
    "ax.set_ylabel(\"Notas\", fontsize=14)\n",
    "ax.set_xticklabels(['Matutino','Vespertino','Integral','Noturno'])\n",
    "ax.tick_params(labelsize=12)"
   ]
  },
  {
   "cell_type": "code",
   "execution_count": 32,
   "metadata": {},
   "outputs": [
    {
     "data": {
      "text/plain": [
       "<matplotlib.legend.Legend at 0x7fefc512ca20>"
      ]
     },
     "execution_count": 32,
     "metadata": {},
     "output_type": "execute_result"
    },
    {
     "data": {
      "image/png": "[encoded data removed]",
      "text/plain": [
       "<Figure size 432x288 with 1 Axes>"
      ]
     },
     "metadata": {},
     "output_type": "display_data"
    }
   ],
   "source": [
    "l = list(np.round(100*(egeral.CO_TURNO_GRADUACAO.value_counts()/egeral.shape[0]), 2))\n",
    "l = ['{:.2f}%'.format(elm) for elm in l]\n",
    "\n",
    "ax = pd.value_counts(egeral['CO_TURNO_GRADUACAO']).plot.pie(labels = ['Noturno','Integral','Matutino','Vespertino'])\n",
    "ax.axes.set_title(\"Quantidade de alunos por turno\", fontsize=16)\n",
    "ax.set_ylabel(\"\")\n",
    "ax.legend(l,\n",
    "          title=\"% Alunos\",\n",
    "          loc=\"center left\",\n",
    "          bbox_to_anchor=(1.2, 0, 0.5, 1))"
   ]
  },
  {
   "cell_type": "markdown",
   "metadata": {},
   "source": [
    "Explique os resultados obtidos."
   ]
  },
  {
   "cell_type": "markdown",
   "metadata": {},
   "source": [
    "<div class=\"alert alert-block alert-success\">\n",
    "    <b>De acordo com as distribuições, nota-se que os alunos do turno noturno possuem notas <i>menores</i> que os demais turnos, isso acontece pois a quantidade de alunos estudando no período noturno é cerca de 74.27% de todo o conjunto de dados, logo a média geral de notas de todos os alunos presentes neste turno tende a ter maiores ruídos, além de ter mais alunos com notas menores que a média geral, o que explica a média ser menor do que os demais turno. De acordo com gráfico, os alunos do turno integral possuem médias melhores que os demais turnos.<br><br>\n",
    "        Existem mais alunos estudando no período da noite do que de dia. \n",
    "        </b>\n",
    "    </div>"
   ]
  },
  {
   "cell_type": "markdown",
   "metadata": {},
   "source": [
    "<div class=\"alert alert-info\">\n",
    "<b>5</b> - Em geral, o MEC acredita que **não** há importantes diferenças de desempenho entre alunos quotistas e não quotistas. Isto é o que você observa, considerando as distribuições de notas dos dois grupos? _Dica_: não são quotistas os alunos que responderam A à pergunta QE_I15.\n",
    "</div>"
   ]
  },
  {
   "cell_type": "code",
   "execution_count": 33,
   "metadata": {},
   "outputs": [
    {
     "data": {
      "text/html": [
       "<div>\n",
       "<style scoped>\n",
       "    .dataframe tbody tr th:only-of-type {\n",
       "        vertical-align: middle;\n",
       "    }\n",
       "\n",
       "    .dataframe tbody tr th {\n",
       "        vertical-align: top;\n",
       "    }\n",
       "\n",
       "    .dataframe thead th {\n",
       "        text-align: right;\n",
       "    }\n",
       "</style>\n",
       "<table border=\"1\" class=\"dataframe\">\n",
       "  <thead>\n",
       "    <tr style=\"text-align: right;\">\n",
       "      <th></th>\n",
       "      <th>Quotista</th>\n",
       "      <th>Notas</th>\n",
       "      <th>value</th>\n",
       "    </tr>\n",
       "  </thead>\n",
       "  <tbody>\n",
       "    <tr>\n",
       "      <th>0</th>\n",
       "      <td>False</td>\n",
       "      <td>NT_GER</td>\n",
       "      <td>55.6</td>\n",
       "    </tr>\n",
       "    <tr>\n",
       "      <th>1</th>\n",
       "      <td>False</td>\n",
       "      <td>NT_GER</td>\n",
       "      <td>72.6</td>\n",
       "    </tr>\n",
       "    <tr>\n",
       "      <th>2</th>\n",
       "      <td>False</td>\n",
       "      <td>NT_GER</td>\n",
       "      <td>50.3</td>\n",
       "    </tr>\n",
       "    <tr>\n",
       "      <th>3</th>\n",
       "      <td>False</td>\n",
       "      <td>NT_GER</td>\n",
       "      <td>45.2</td>\n",
       "    </tr>\n",
       "    <tr>\n",
       "      <th>4</th>\n",
       "      <td>False</td>\n",
       "      <td>NT_GER</td>\n",
       "      <td>40.9</td>\n",
       "    </tr>\n",
       "  </tbody>\n",
       "</table>\n",
       "</div>"
      ],
      "text/plain": [
       "   Quotista   Notas  value\n",
       "0     False  NT_GER   55.6\n",
       "1     False  NT_GER   72.6\n",
       "2     False  NT_GER   50.3\n",
       "3     False  NT_GER   45.2\n",
       "4     False  NT_GER   40.9"
      ]
     },
     "execution_count": 33,
     "metadata": {},
     "output_type": "execute_result"
    }
   ],
   "source": [
    "egeral['Quotista'] = egeral['QE_I15'] != 'A'\n",
    "notas_vs_quotistas = egeral[['Quotista', 'NT_GER', 'NT_FG', 'NT_CE']]\n",
    "aux_df = pd.melt(notas_vs_quotistas, id_vars=['Quotista'], var_name=['Notas'])\n",
    "aux_df.head()"
   ]
  },
  {
   "cell_type": "code",
   "execution_count": 34,
   "metadata": {},
   "outputs": [
    {
     "data": {
      "text/plain": [
       "A    19271\n",
       "D     1559\n",
       "C     1343\n",
       "E      920\n",
       "F      408\n",
       "B      257\n",
       "Z      230\n",
       "Name: QE_I15, dtype: int64"
      ]
     },
     "execution_count": 34,
     "metadata": {},
     "output_type": "execute_result"
    }
   ],
   "source": [
    "egeral['QE_I15'].value_counts()"
   ]
  },
  {
   "cell_type": "code",
   "execution_count": 35,
   "metadata": {},
   "outputs": [
    {
     "data": {
      "image/png": "[encoded data removed]",
      "text/plain": [
       "<Figure size 1152x576 with 1 Axes>"
      ]
     },
     "metadata": {
      "needs_background": "light"
     },
     "output_type": "display_data"
    }
   ],
   "source": [
    "plt.figure(figsize=(16, 8))\n",
    "\n",
    "ax = sns.boxplot(x=\"Quotista\", y=\"value\", hue=\"Notas\", data=aux_df, width=0.6)\n",
    "ax.axes.set_title(\"Enade 2017 (Eng. de Produção): Quotistas/Não Quotistas Vs Notas\", fontsize=16)\n",
    "ax.set_xlabel(\"\")\n",
    "ax.set_ylabel(\"Notas\", fontsize=14)\n",
    "ax.set_xticklabels(['Quotista', 'Não Quotista'])\n",
    "ax.tick_params(labelsize=10)"
   ]
  },
  {
   "cell_type": "markdown",
   "metadata": {},
   "source": [
    "Explique os resultados obtidos."
   ]
  },
  {
   "cell_type": "markdown",
   "metadata": {},
   "source": [
    "<div class=\"alert alert-block alert-success\">\n",
    "    <b>Sim, de fato não há importantes diferenças no desempenho em relação as duas distribuições como observado no gráfico acima.</b>\n",
    "    </div>"
   ]
  },
  {
   "cell_type": "markdown",
   "metadata": {},
   "source": [
    "<div class=\"alert alert-info\">\n",
    "<b>6</b> - Como se comparam os desempenhos dos alunos de instituíções públicas, privadas sem fim lucrativo e privadas com fim lucrativo?\n",
    "</div>"
   ]
  },
  {
   "cell_type": "markdown",
   "metadata": {},
   "source": [
    "<div class=\"alert alert-block alert-success\">\n",
    "    <b>Vamos criar boxplots entre as universidades públicas, entre as universidades privadas e por final entre públicas e privadas.</b>\n",
    "    </div>"
   ]
  },
  {
   "cell_type": "code",
   "execution_count": 36,
   "metadata": {},
   "outputs": [
    {
     "data": {
      "text/plain": [
       "1    4041\n",
       "2    1286\n",
       "3     171\n",
       "Name: CO_CATEGAD, dtype: int64"
      ]
     },
     "execution_count": 36,
     "metadata": {},
     "output_type": "execute_result"
    }
   ],
   "source": [
    "egeral_publicas = pd.DataFrame(egeral[egeral['CO_CATEGAD'] < 4])\n",
    "egeral_publicas.CO_CATEGAD.value_counts()"
   ]
  },
  {
   "cell_type": "code",
   "execution_count": 37,
   "metadata": {},
   "outputs": [
    {
     "data": {
      "text/html": [
       "<div>\n",
       "<style scoped>\n",
       "    .dataframe tbody tr th:only-of-type {\n",
       "        vertical-align: middle;\n",
       "    }\n",
       "\n",
       "    .dataframe tbody tr th {\n",
       "        vertical-align: top;\n",
       "    }\n",
       "\n",
       "    .dataframe thead th {\n",
       "        text-align: right;\n",
       "    }\n",
       "</style>\n",
       "<table border=\"1\" class=\"dataframe\">\n",
       "  <thead>\n",
       "    <tr style=\"text-align: right;\">\n",
       "      <th></th>\n",
       "      <th>CO_CATEGAD</th>\n",
       "      <th>Notas</th>\n",
       "      <th>value</th>\n",
       "    </tr>\n",
       "  </thead>\n",
       "  <tbody>\n",
       "    <tr>\n",
       "      <th>0</th>\n",
       "      <td>2</td>\n",
       "      <td>NT_GER</td>\n",
       "      <td>55.6</td>\n",
       "    </tr>\n",
       "    <tr>\n",
       "      <th>1</th>\n",
       "      <td>2</td>\n",
       "      <td>NT_GER</td>\n",
       "      <td>72.6</td>\n",
       "    </tr>\n",
       "    <tr>\n",
       "      <th>2</th>\n",
       "      <td>2</td>\n",
       "      <td>NT_GER</td>\n",
       "      <td>50.3</td>\n",
       "    </tr>\n",
       "    <tr>\n",
       "      <th>3</th>\n",
       "      <td>2</td>\n",
       "      <td>NT_GER</td>\n",
       "      <td>45.2</td>\n",
       "    </tr>\n",
       "    <tr>\n",
       "      <th>4</th>\n",
       "      <td>2</td>\n",
       "      <td>NT_GER</td>\n",
       "      <td>40.9</td>\n",
       "    </tr>\n",
       "  </tbody>\n",
       "</table>\n",
       "</div>"
      ],
      "text/plain": [
       "   CO_CATEGAD   Notas  value\n",
       "0           2  NT_GER   55.6\n",
       "1           2  NT_GER   72.6\n",
       "2           2  NT_GER   50.3\n",
       "3           2  NT_GER   45.2\n",
       "4           2  NT_GER   40.9"
      ]
     },
     "execution_count": 37,
     "metadata": {},
     "output_type": "execute_result"
    }
   ],
   "source": [
    "notas_vs_publicas = egeral_publicas[['CO_CATEGAD', 'NT_GER', 'NT_FG', 'NT_CE']]\n",
    "aux_df = pd.melt(notas_vs_publicas, id_vars=['CO_CATEGAD'], var_name=['Notas'])\n",
    "aux_df.head()"
   ]
  },
  {
   "cell_type": "code",
   "execution_count": 38,
   "metadata": {},
   "outputs": [
    {
     "data": {
      "image/png": "[encoded data removed]",
      "text/plain": [
       "<Figure size 1152x576 with 1 Axes>"
      ]
     },
     "metadata": {
      "needs_background": "light"
     },
     "output_type": "display_data"
    }
   ],
   "source": [
    "plt.figure(figsize=(16, 8))\n",
    "\n",
    "ax = sns.boxplot(x=\"CO_CATEGAD\", y=\"value\", hue=\"Notas\", data=aux_df, width=0.6)\n",
    "ax.axes.set_title(\"Enade 2017 (Eng. de Produção): Inst. Públicas Vs Notas\", fontsize=16)\n",
    "ax.set_xlabel(\"Inst. Públicas\", fontsize=14)\n",
    "ax.set_ylabel(\"Notas\", fontsize=14)\n",
    "ax.set_xticklabels(['Pública Federal', 'Pública Estadual', 'Pública Municipal'])\n",
    "ax.tick_params(labelsize=10)"
   ]
  },
  {
   "cell_type": "code",
   "execution_count": 39,
   "metadata": {},
   "outputs": [
    {
     "data": {
      "text/plain": [
       "4    9327\n",
       "5    9093\n",
       "Name: CO_CATEGAD, dtype: int64"
      ]
     },
     "execution_count": 39,
     "metadata": {},
     "output_type": "execute_result"
    }
   ],
   "source": [
    "egeral_privadas = pd.DataFrame(egeral[(egeral['CO_CATEGAD'] > 3) & (egeral['CO_CATEGAD'] < 6)])\n",
    "egeral_privadas['CO_CATEGAD'].value_counts()"
   ]
  },
  {
   "cell_type": "code",
   "execution_count": 40,
   "metadata": {},
   "outputs": [
    {
     "data": {
      "text/html": [
       "<div>\n",
       "<style scoped>\n",
       "    .dataframe tbody tr th:only-of-type {\n",
       "        vertical-align: middle;\n",
       "    }\n",
       "\n",
       "    .dataframe tbody tr th {\n",
       "        vertical-align: top;\n",
       "    }\n",
       "\n",
       "    .dataframe thead th {\n",
       "        text-align: right;\n",
       "    }\n",
       "</style>\n",
       "<table border=\"1\" class=\"dataframe\">\n",
       "  <thead>\n",
       "    <tr style=\"text-align: right;\">\n",
       "      <th></th>\n",
       "      <th>CO_CATEGAD</th>\n",
       "      <th>Notas</th>\n",
       "      <th>value</th>\n",
       "    </tr>\n",
       "  </thead>\n",
       "  <tbody>\n",
       "    <tr>\n",
       "      <th>0</th>\n",
       "      <td>4</td>\n",
       "      <td>NT_GER</td>\n",
       "      <td>58.5</td>\n",
       "    </tr>\n",
       "    <tr>\n",
       "      <th>1</th>\n",
       "      <td>4</td>\n",
       "      <td>NT_GER</td>\n",
       "      <td>28.7</td>\n",
       "    </tr>\n",
       "    <tr>\n",
       "      <th>2</th>\n",
       "      <td>4</td>\n",
       "      <td>NT_GER</td>\n",
       "      <td>33.1</td>\n",
       "    </tr>\n",
       "    <tr>\n",
       "      <th>3</th>\n",
       "      <td>4</td>\n",
       "      <td>NT_GER</td>\n",
       "      <td>38.3</td>\n",
       "    </tr>\n",
       "    <tr>\n",
       "      <th>4</th>\n",
       "      <td>4</td>\n",
       "      <td>NT_GER</td>\n",
       "      <td>58.6</td>\n",
       "    </tr>\n",
       "  </tbody>\n",
       "</table>\n",
       "</div>"
      ],
      "text/plain": [
       "   CO_CATEGAD   Notas  value\n",
       "0           4  NT_GER   58.5\n",
       "1           4  NT_GER   28.7\n",
       "2           4  NT_GER   33.1\n",
       "3           4  NT_GER   38.3\n",
       "4           4  NT_GER   58.6"
      ]
     },
     "execution_count": 40,
     "metadata": {},
     "output_type": "execute_result"
    }
   ],
   "source": [
    "notas_vs_privadas = egeral_privadas[['CO_CATEGAD', 'NT_GER', 'NT_FG', 'NT_CE']]\n",
    "aux_df = pd.melt(notas_vs_privadas, id_vars=['CO_CATEGAD'], var_name=['Notas'])\n",
    "aux_df.head()"
   ]
  },
  {
   "cell_type": "code",
   "execution_count": 41,
   "metadata": {},
   "outputs": [
    {
     "data": {
      "image/png": "[encoded data removed]",
      "text/plain": [
       "<Figure size 1152x576 with 1 Axes>"
      ]
     },
     "metadata": {
      "needs_background": "light"
     },
     "output_type": "display_data"
    }
   ],
   "source": [
    "plt.figure(figsize=(16, 8))\n",
    "\n",
    "ax = sns.boxplot(x=\"CO_CATEGAD\", y=\"value\", hue=\"Notas\", data=aux_df, width=0.6)\n",
    "ax.axes.set_title(\"Enade 2017 (Eng. de Produção): Inst. Privadas Vs Notas\", fontsize=16)\n",
    "ax.set_xlabel(\"Inst. Privadas\", fontsize=14)\n",
    "ax.set_ylabel(\"Notas\", fontsize=14)\n",
    "ax.set_xticklabels(['Privada com fins lucrativos', 'Privada sem fins lucrativos']) \n",
    "ax.tick_params(labelsize=10)"
   ]
  },
  {
   "cell_type": "code",
   "execution_count": 42,
   "metadata": {},
   "outputs": [
    {
     "data": {
      "text/plain": [
       "4    9327\n",
       "5    9093\n",
       "1    4041\n",
       "2    1286\n",
       "3     171\n",
       "7      70\n",
       "Name: CO_CATEGAD, dtype: int64"
      ]
     },
     "execution_count": 42,
     "metadata": {},
     "output_type": "execute_result"
    }
   ],
   "source": [
    "egeral.CO_CATEGAD.value_counts()"
   ]
  },
  {
   "cell_type": "code",
   "execution_count": 43,
   "metadata": {},
   "outputs": [
    {
     "name": "stderr",
     "output_type": "stream",
     "text": [
      "/home/damhur/.tensorflow2/lib/python3.6/site-packages/ipykernel_launcher.py:2: SettingWithCopyWarning: \n",
      "A value is trying to be set on a copy of a slice from a DataFrame.\n",
      "Try using .loc[row_indexer,col_indexer] = value instead\n",
      "\n",
      "See the caveats in the documentation: http://pandas.pydata.org/pandas-docs/stable/indexing.html#indexing-view-versus-copy\n",
      "  \n"
     ]
    },
    {
     "data": {
      "text/plain": [
       "False    18420\n",
       "True      5498\n",
       "Name: CATEGORIA, dtype: int64"
      ]
     },
     "execution_count": 43,
     "metadata": {},
     "output_type": "execute_result"
    }
   ],
   "source": [
    "egeral_publicas_privadas = egeral[egeral.CO_CATEGAD != 7]\n",
    "egeral_publicas_privadas['CATEGORIA'] = egeral_publicas_privadas['CO_CATEGAD'] < 4\n",
    "egeral_publicas_privadas.CATEGORIA.value_counts()"
   ]
  },
  {
   "cell_type": "code",
   "execution_count": 44,
   "metadata": {},
   "outputs": [
    {
     "data": {
      "text/html": [
       "<div>\n",
       "<style scoped>\n",
       "    .dataframe tbody tr th:only-of-type {\n",
       "        vertical-align: middle;\n",
       "    }\n",
       "\n",
       "    .dataframe tbody tr th {\n",
       "        vertical-align: top;\n",
       "    }\n",
       "\n",
       "    .dataframe thead th {\n",
       "        text-align: right;\n",
       "    }\n",
       "</style>\n",
       "<table border=\"1\" class=\"dataframe\">\n",
       "  <thead>\n",
       "    <tr style=\"text-align: right;\">\n",
       "      <th></th>\n",
       "      <th>CATEGORIA</th>\n",
       "      <th>Notas</th>\n",
       "      <th>value</th>\n",
       "    </tr>\n",
       "  </thead>\n",
       "  <tbody>\n",
       "    <tr>\n",
       "      <th>0</th>\n",
       "      <td>True</td>\n",
       "      <td>NT_GER</td>\n",
       "      <td>55.6</td>\n",
       "    </tr>\n",
       "    <tr>\n",
       "      <th>1</th>\n",
       "      <td>True</td>\n",
       "      <td>NT_GER</td>\n",
       "      <td>72.6</td>\n",
       "    </tr>\n",
       "    <tr>\n",
       "      <th>2</th>\n",
       "      <td>True</td>\n",
       "      <td>NT_GER</td>\n",
       "      <td>50.3</td>\n",
       "    </tr>\n",
       "    <tr>\n",
       "      <th>3</th>\n",
       "      <td>True</td>\n",
       "      <td>NT_GER</td>\n",
       "      <td>45.2</td>\n",
       "    </tr>\n",
       "    <tr>\n",
       "      <th>4</th>\n",
       "      <td>True</td>\n",
       "      <td>NT_GER</td>\n",
       "      <td>40.9</td>\n",
       "    </tr>\n",
       "  </tbody>\n",
       "</table>\n",
       "</div>"
      ],
      "text/plain": [
       "   CATEGORIA   Notas  value\n",
       "0       True  NT_GER   55.6\n",
       "1       True  NT_GER   72.6\n",
       "2       True  NT_GER   50.3\n",
       "3       True  NT_GER   45.2\n",
       "4       True  NT_GER   40.9"
      ]
     },
     "execution_count": 44,
     "metadata": {},
     "output_type": "execute_result"
    }
   ],
   "source": [
    "notas_vs_publicas_privadas = egeral_publicas_privadas[['CATEGORIA', 'NT_GER', 'NT_FG', 'NT_CE']]\n",
    "aux_df = pd.melt(notas_vs_publicas_privadas, id_vars=['CATEGORIA'], var_name=['Notas'])\n",
    "aux_df.head()"
   ]
  },
  {
   "cell_type": "code",
   "execution_count": 45,
   "metadata": {},
   "outputs": [
    {
     "data": {
      "image/png": "[encoded data removed]",
      "text/plain": [
       "<Figure size 1152x576 with 1 Axes>"
      ]
     },
     "metadata": {
      "needs_background": "light"
     },
     "output_type": "display_data"
    }
   ],
   "source": [
    "plt.figure(figsize=(16, 8))\n",
    "\n",
    "ax = sns.boxplot(x=\"CATEGORIA\", y=\"value\", hue=\"Notas\", data=aux_df, width=0.6)\n",
    "ax.axes.set_title(\"Enade 2017 (Eng. de Produção): Categoria da Instituição Vs Notas\", fontsize=16)\n",
    "ax.set_xlabel(\"Categoria da Instituição\", fontsize=14)\n",
    "ax.set_ylabel(\"Notas\", fontsize=14)\n",
    "ax.set_xticklabels(['Inst. Privadas', 'Inst. Públicas']) \n",
    "ax.tick_params(labelsize=10)"
   ]
  },
  {
   "cell_type": "markdown",
   "metadata": {},
   "source": [
    "Comente sobre os resultados obtidos."
   ]
  },
  {
   "cell_type": "markdown",
   "metadata": {},
   "source": [
    "<div class=\"alert alert-block alert-success\">\n",
    "    <b>Entre as distribuições de notas de instituições públicas, os gráficos mostram que os alunos de instituições públicas federal possuem, em geral, notas maiores que os alunos de instituições estadual e municipal.<br><br>\n",
    "    Já as notas dos alunos de instituições privadas, nota-se que os alunos de instituições privadas sem fins lucrativos possuem notas melhores que os alunos de instituições privadas com fins lucrativos, apesar da margem de diferença não ser tão significativa.<br><br>\n",
    "    De forma geral, entre instituições públicas e privadas, os alunos de instituições públicas possuem melhores notas que os alunos de instituições privadas, com uma margem de diferença significativa, mesmo em menor número de alunos (22,98% são alunos de instituições públicas).\n",
    "    </b>\n",
    "    </div>"
   ]
  },
  {
   "cell_type": "markdown",
   "metadata": {},
   "source": [
    "#### Cruzando dados"
   ]
  },
  {
   "cell_type": "markdown",
   "metadata": {},
   "source": [
    "Os motivos elencados para descrever o que leva um candidato a escolher seu curso incluem:\n",
    "\n",
    "A = Inserção no mercado de trabalho.<br>B = Influência familiar.<br>C = Valorização profissional.<br>D = Prestígio Social.<br>E = Vocação.<br>F = Oferecimento do curso na modalidade a distância.<br>G = Baixa concorrência para ingresso.<br>H = Outro motivo. \n",
    "\n",
    "<div class=\"alert alert-info\">\n",
    "<b>7</b> - Cruze a informação sobre o turno do curso do aluno com a resposta dada a esta pergunta (QE_I25), de forma a obter, para os motivos dados, o percentual de alunos que os escolheram, de acordo com os cursos realizados.\n",
    "</div>"
   ]
  },
  {
   "cell_type": "code",
   "execution_count": 46,
   "metadata": {},
   "outputs": [
    {
     "data": {
      "text/html": [
       "<div>\n",
       "<style scoped>\n",
       "    .dataframe tbody tr th:only-of-type {\n",
       "        vertical-align: middle;\n",
       "    }\n",
       "\n",
       "    .dataframe tbody tr th {\n",
       "        vertical-align: top;\n",
       "    }\n",
       "\n",
       "    .dataframe thead th {\n",
       "        text-align: right;\n",
       "    }\n",
       "</style>\n",
       "<table border=\"1\" class=\"dataframe\">\n",
       "  <thead>\n",
       "    <tr style=\"text-align: right;\">\n",
       "      <th>CO_TURNO_GRADUACAO</th>\n",
       "      <th>1.0</th>\n",
       "      <th>2.0</th>\n",
       "      <th>3.0</th>\n",
       "      <th>4.0</th>\n",
       "    </tr>\n",
       "    <tr>\n",
       "      <th>QE_I25</th>\n",
       "      <th></th>\n",
       "      <th></th>\n",
       "      <th></th>\n",
       "      <th></th>\n",
       "    </tr>\n",
       "  </thead>\n",
       "  <tbody>\n",
       "    <tr>\n",
       "      <th>A</th>\n",
       "      <td>40.56</td>\n",
       "      <td>40.62</td>\n",
       "      <td>44.15</td>\n",
       "      <td>40.88</td>\n",
       "    </tr>\n",
       "    <tr>\n",
       "      <th>B</th>\n",
       "      <td>3.38</td>\n",
       "      <td>4.69</td>\n",
       "      <td>4.03</td>\n",
       "      <td>3.58</td>\n",
       "    </tr>\n",
       "    <tr>\n",
       "      <th>C</th>\n",
       "      <td>24.06</td>\n",
       "      <td>14.06</td>\n",
       "      <td>18.51</td>\n",
       "      <td>28.97</td>\n",
       "    </tr>\n",
       "    <tr>\n",
       "      <th>D</th>\n",
       "      <td>0.60</td>\n",
       "      <td>0.52</td>\n",
       "      <td>0.61</td>\n",
       "      <td>0.59</td>\n",
       "    </tr>\n",
       "    <tr>\n",
       "      <th>E</th>\n",
       "      <td>18.45</td>\n",
       "      <td>23.70</td>\n",
       "      <td>20.86</td>\n",
       "      <td>15.18</td>\n",
       "    </tr>\n",
       "    <tr>\n",
       "      <th>F</th>\n",
       "      <td>2.23</td>\n",
       "      <td>0.00</td>\n",
       "      <td>0.76</td>\n",
       "      <td>0.53</td>\n",
       "    </tr>\n",
       "    <tr>\n",
       "      <th>G</th>\n",
       "      <td>0.49</td>\n",
       "      <td>0.26</td>\n",
       "      <td>0.99</td>\n",
       "      <td>0.26</td>\n",
       "    </tr>\n",
       "    <tr>\n",
       "      <th>H</th>\n",
       "      <td>9.25</td>\n",
       "      <td>14.84</td>\n",
       "      <td>8.94</td>\n",
       "      <td>9.11</td>\n",
       "    </tr>\n",
       "    <tr>\n",
       "      <th>Z</th>\n",
       "      <td>0.98</td>\n",
       "      <td>1.30</td>\n",
       "      <td>1.16</td>\n",
       "      <td>0.90</td>\n",
       "    </tr>\n",
       "  </tbody>\n",
       "</table>\n",
       "</div>"
      ],
      "text/plain": [
       "CO_TURNO_GRADUACAO    1.0    2.0    3.0    4.0\n",
       "QE_I25                                        \n",
       "A                   40.56  40.62  44.15  40.88\n",
       "B                    3.38   4.69   4.03   3.58\n",
       "C                   24.06  14.06  18.51  28.97\n",
       "D                    0.60   0.52   0.61   0.59\n",
       "E                   18.45  23.70  20.86  15.18\n",
       "F                    2.23   0.00   0.76   0.53\n",
       "G                    0.49   0.26   0.99   0.26\n",
       "H                    9.25  14.84   8.94   9.11\n",
       "Z                    0.98   1.30   1.16   0.90"
      ]
     },
     "execution_count": 46,
     "metadata": {},
     "output_type": "execute_result"
    }
   ],
   "source": [
    "pd.crosstab(egeral.QE_I25, egeral.CO_TURNO_GRADUACAO).apply(lambda r: np.round(100*r/r.sum(), 2), axis=0)"
   ]
  },
  {
   "cell_type": "code",
   "execution_count": 47,
   "metadata": {},
   "outputs": [
    {
     "data": {
      "text/plain": [
       "Text(0.5, 0, 'Motivos Elencados')"
      ]
     },
     "execution_count": 47,
     "metadata": {},
     "output_type": "execute_result"
    },
    {
     "data": {
      "image/png": "[encoded data removed]",
      "text/plain": [
       "<Figure size 864x576 with 1 Axes>"
      ]
     },
     "metadata": {
      "needs_background": "light"
     },
     "output_type": "display_data"
    }
   ],
   "source": [
    "ax = pd.crosstab(egeral.QE_I25, egeral.CO_TURNO_GRADUACAO).plot(kind='bar', logy=True, figsize=(12,8), grid=False)\n",
    "ax.legend(['Matutino','Vespertino','Integral','Noturno'])\n",
    "ax.axes.set_title(\"Enade 2017 (Eng. de Produção): Motivos Elencados vs % de Alunos(Log) de acordo com o turno \", fontsize=16)\n",
    "ax.set_ylabel('% de Alunos em Log', fontsize=14)\n",
    "ax.set_xlabel('Motivos Elencados', fontsize=14)"
   ]
  },
  {
   "cell_type": "markdown",
   "metadata": {},
   "source": [
    "Comente sobre os resultados obtidos."
   ]
  },
  {
   "cell_type": "markdown",
   "metadata": {},
   "source": [
    "<div class=\"alert alert-block alert-success\">\n",
    "<b> De acordo com a tabela, os três maiores percentuais de alunos que escolheram o turno Matutino foram por motivos elencados a inserção no mercado de trabalho (40.56%), valorização profissional (24.06%) e vocação (18.45%). Em relação ao turno Vespertino foram inserção no mercado de trabalho (40.62%), valorização profissional (14.06%) e outros motivos (14.84%). Em relação ao turno Integral foram inserção no mercado de trabalho (44.15%), valorização profissional (18.51%) e vocação (20.86%). Por último, em relação ao turno Noturno foram inserção no mercado de trabalho (40.88%), valorização profissional (28.97%) e vocação (15.18%).<br>\n",
    "    \n",
    "Em geral, os motivos elecandos que leva um aluno a escolher o seu curso de acordo com o turno é a inserção no mercado de trabalho, valorização profissional e vocação.\n",
    "</b>\n",
    "</div>"
   ]
  },
  {
   "cell_type": "markdown",
   "metadata": {},
   "source": [
    "Considerando as seguintes faixas de renda (QE_I08):\n",
    "\n",
    "A = Até 1,5 salário mínimo (até R\\$ 1.086,00).<br>B = De 1,5 a 3 salários mínimos (R\\$ 1.086,01 a R\\$ 2.172,00).<br>C = De 3 a 4,5 salários mínimos (R\\$ 2.172,01 a R\\$ 3.258,00).<br>D = De 4,5 a 6 salários mínimos (R\\$ 3.258,01 a R\\$ 4.344,00).<br>E = De 6 a 10 salários mínimos (R\\$ 4.344,01 a R\\$ 7.240,00).<br>F = De 10 a 30 salários mínimos (R\\$ 7.240,01 a R\\$ 21.720,00).<br>G = Acima de 30 salários mínimos (mais de R\\$ 21.720,01).\n",
    "\n",
    "<div class=\"alert alert-info\">\n",
    "<b>8</b> - É verdade que, quando comparado às instituíções privadas, estão nos cursos das universidades federais tanto os estudantes mais pobres quanto os mais ricos do país?\n",
    "</div>"
   ]
  },
  {
   "cell_type": "code",
   "execution_count": 48,
   "metadata": {},
   "outputs": [
    {
     "data": {
      "text/html": [
       "<div>\n",
       "<style scoped>\n",
       "    .dataframe tbody tr th:only-of-type {\n",
       "        vertical-align: middle;\n",
       "    }\n",
       "\n",
       "    .dataframe tbody tr th {\n",
       "        vertical-align: top;\n",
       "    }\n",
       "\n",
       "    .dataframe thead th {\n",
       "        text-align: right;\n",
       "    }\n",
       "</style>\n",
       "<table border=\"1\" class=\"dataframe\">\n",
       "  <thead>\n",
       "    <tr style=\"text-align: right;\">\n",
       "      <th>QE_I08</th>\n",
       "      <th>A</th>\n",
       "      <th>B</th>\n",
       "      <th>C</th>\n",
       "      <th>D</th>\n",
       "      <th>E</th>\n",
       "      <th>F</th>\n",
       "      <th>G</th>\n",
       "      <th>Z</th>\n",
       "    </tr>\n",
       "    <tr>\n",
       "      <th>CO_CATEGAD</th>\n",
       "      <th></th>\n",
       "      <th></th>\n",
       "      <th></th>\n",
       "      <th></th>\n",
       "      <th></th>\n",
       "      <th></th>\n",
       "      <th></th>\n",
       "      <th></th>\n",
       "    </tr>\n",
       "  </thead>\n",
       "  <tbody>\n",
       "    <tr>\n",
       "      <th>4</th>\n",
       "      <td>10.17</td>\n",
       "      <td>25.83</td>\n",
       "      <td>25.02</td>\n",
       "      <td>14.70</td>\n",
       "      <td>14.72</td>\n",
       "      <td>7.30</td>\n",
       "      <td>1.14</td>\n",
       "      <td>1.12</td>\n",
       "    </tr>\n",
       "    <tr>\n",
       "      <th>5</th>\n",
       "      <td>8.04</td>\n",
       "      <td>18.83</td>\n",
       "      <td>24.99</td>\n",
       "      <td>15.03</td>\n",
       "      <td>18.00</td>\n",
       "      <td>11.49</td>\n",
       "      <td>2.96</td>\n",
       "      <td>0.66</td>\n",
       "    </tr>\n",
       "  </tbody>\n",
       "</table>\n",
       "</div>"
      ],
      "text/plain": [
       "QE_I08          A      B      C      D      E      F     G     Z\n",
       "CO_CATEGAD                                                      \n",
       "4           10.17  25.83  25.02  14.70  14.72   7.30  1.14  1.12\n",
       "5            8.04  18.83  24.99  15.03  18.00  11.49  2.96  0.66"
      ]
     },
     "execution_count": 48,
     "metadata": {},
     "output_type": "execute_result"
    }
   ],
   "source": [
    "pd.crosstab(egeral_privadas.CO_CATEGAD, egeral_privadas.QE_I08).apply(lambda r: np.round(100*r/r.sum(), 2), axis=1)"
   ]
  },
  {
   "cell_type": "code",
   "execution_count": 49,
   "metadata": {},
   "outputs": [
    {
     "data": {
      "text/plain": [
       "[Text(0, 0, 'Privadas com fins lucrativos'),\n",
       " Text(0, 0, 'Privadas sem fins lucrativos')]"
      ]
     },
     "execution_count": 49,
     "metadata": {},
     "output_type": "execute_result"
    },
    {
     "data": {
      "image/png": "[encoded data removed]",
      "text/plain": [
       "<Figure size 864x576 with 1 Axes>"
      ]
     },
     "metadata": {
      "needs_background": "light"
     },
     "output_type": "display_data"
    }
   ],
   "source": [
    "ax = pd.crosstab(egeral_privadas.CO_CATEGAD, egeral_privadas.QE_I08).plot(kind='bar', logy=True, figsize=(12,8), grid=False)\n",
    "\n",
    "ax.axes.set_title(\"Enade 2017 (Eng. de Produção): Inst. Privadas vs % de Alunos(Log) de acordo com a faixa de renda\", fontsize=16)\n",
    "ax.legend(title='Faixa de Renda')\n",
    "ax.set_ylabel('% de Alunos em Log', fontsize=14)\n",
    "ax.set_xlabel('Inst. Privadas', fontsize=14)\n",
    "ax.set_xticklabels(['Privadas com fins lucrativos', 'Privadas sem fins lucrativos'], rotation = 0) "
   ]
  },
  {
   "cell_type": "markdown",
   "metadata": {},
   "source": [
    "Comente sobre os resultados."
   ]
  },
  {
   "cell_type": "markdown",
   "metadata": {},
   "source": [
    "<div class=\"alert alert-block alert-success\">\n",
    "<b>Considerado os alunos mais pobres sendo de até 1,5 salário mínimo (A) e os alunos mais ricos acima de 10 salários mínimos (F, G). A tabela mostra que os alunos mais pobres representam cerca de 10.17% das instituições privadas com fins lucrativos e 8.04% das instituições privadas sem fins lucrativos, enquanto que 8.44% representam os alunos mais ricos nas instituições privadas com fins lucrativos e 14.45% sem fins lucrativos. O que demonstra que em geral a diferença de proporção entre alunos mais pobres e alunos mais ricos comparados às instituições privadas, possuem uma margem de diferença de menos de 5%, logo, podemos afirmar que ambas as classes estão presentes nas universidades federais.</b>\n",
    " </div>\n",
    "    "
   ]
  },
  {
   "cell_type": "markdown",
   "metadata": {
    "scrolled": true
   },
   "source": [
    "#### Obtendo valor consolidado sobre dados cruzados (pivô)"
   ]
  },
  {
   "cell_type": "markdown",
   "metadata": {},
   "source": [
    "Considerando como foi o ensino médio dos alunos, de acordo com as opções em QE_I17:\n",
    "\n",
    "A = Todo em escola pública.<br>B = Todo em escola privada (particular).<br>C = Todo no exterior.<br>D = A maior parte em escola pública.<br>E = A maior parte em escola privada (particular).<br>F = Parte no Brasil e parte no exterior.\n",
    "\n",
    "<div class=\"alert alert-info\">\n",
    "<b>9</b> - Qual a nota geral média dos alunos, de acordo com a forma como ele cursou ensino médio?\n",
    "</div>"
   ]
  },
  {
   "cell_type": "code",
   "execution_count": 50,
   "metadata": {},
   "outputs": [],
   "source": [
    "egeral_pivot = egeral.pivot_table(values = ['NT_GER'], \n",
    "                                    index = ['QE_I17'], \n",
    "                                    aggfunc = np.mean)\n",
    "egeral_pivot.sort_values('NT_GER', ascending=True, inplace=True)"
   ]
  },
  {
   "cell_type": "code",
   "execution_count": 51,
   "metadata": {},
   "outputs": [
    {
     "data": {
      "text/plain": [
       "Text(0.5, 0, 'Nota Média')"
      ]
     },
     "execution_count": 51,
     "metadata": {},
     "output_type": "execute_result"
    },
    {
     "data": {
      "text/plain": [
       "<Figure size 720x576 with 0 Axes>"
      ]
     },
     "metadata": {},
     "output_type": "display_data"
    },
    {
     "data": {
      "image/png": "[encoded data removed]",
      "text/plain": [
       "<Figure size 576x360 with 1 Axes>"
      ]
     },
     "metadata": {
      "needs_background": "light"
     },
     "output_type": "display_data"
    }
   ],
   "source": [
    "plt.figure(figsize=(10, 8))\n",
    "ax = egeral_pivot.plot(kind='barh', color='g', grid=False, figsize=(8,5))\n",
    "\n",
    "ax.axes.set_title(\"Enade 2017 (Eng. de Produção): Nota média dos alunos em relação ao tipo de ensino médio\", fontsize=16)\n",
    "ax.legend().remove()\n",
    "ax.set_ylabel('')\n",
    "ax.set_yticklabels(['Não sei responder', 'A maior parte em escola pública', 'Todo em escola pública', 'A maior parte em escola privada',\n",
    "                     'Todo no exterior', 'Todo em escola privada', 'Parte no Brasil e parte no exterior']) \n",
    "ax.set_xlabel('Nota Média', fontsize=14)"
   ]
  },
  {
   "cell_type": "markdown",
   "metadata": {},
   "source": [
    "Comente sobre os resultados."
   ]
  },
  {
   "cell_type": "markdown",
   "metadata": {},
   "source": [
    "<div class=\"alert alert-block alert-success\">\n",
    "<b>Os alunos que obtiveram a maior nota geral média foram os que cursaram ensino médio parte no Brasil e parte no exterior. Em geral, os alunos que possuem condições financeiras melhores para estudar em escolas particulares ou no exterior obtiveram médias melhores do que os alunos de escolas públicas.</b>\n",
    "</div>"
   ]
  },
  {
   "cell_type": "markdown",
   "metadata": {},
   "source": [
    "<div class=\"alert alert-info\">\n",
    "<b>10</b> - Qual a nota geral média dos alunos, de acordo com sua renda, por regiao? Caso sua base se refira a uma única região, considere a renda por estado daquela região.\n",
    "</div>"
   ]
  },
  {
   "cell_type": "code",
   "execution_count": 52,
   "metadata": {},
   "outputs": [],
   "source": [
    "egeral_pivot = egeral.pivot_table(values = ['NT_GER'], \n",
    "                                    index = ['QE_I08', 'REGIAO'], \n",
    "                                    aggfunc = np.mean)\n",
    "egeral_pivot.sort_values('NT_GER', ascending=True, inplace=True)"
   ]
  },
  {
   "cell_type": "code",
   "execution_count": 53,
   "metadata": {},
   "outputs": [
    {
     "data": {
      "text/plain": [
       "Text(0.5, 0, 'Nota Média')"
      ]
     },
     "execution_count": 53,
     "metadata": {},
     "output_type": "execute_result"
    },
    {
     "data": {
      "image/png": "[encoded data removed]",
      "text/plain": [
       "<Figure size 1296x720 with 1 Axes>"
      ]
     },
     "metadata": {
      "needs_background": "light"
     },
     "output_type": "display_data"
    }
   ],
   "source": [
    "ax = egeral_pivot.plot(kind='barh', color='g', figsize=(18,10), grid=False)\n",
    "ax.axes.set_title(\"Enade 2017 (Eng. de Produção): Nota média dos alunos em relação a sua renda por região\", fontsize=16)\n",
    "ax.legend().remove()\n",
    "ax.set_ylabel('')\n",
    "ax.set_xlabel('Nota Média', fontsize=14)"
   ]
  },
  {
   "cell_type": "markdown",
   "metadata": {},
   "source": [
    "Explique os resultados."
   ]
  },
  {
   "cell_type": "markdown",
   "metadata": {},
   "source": [
    "<div class=\"alert alert-block alert-success\">\n",
    "<b>\n",
    "Bom, em geral, a menor média geral de notas para qualquer classe de renda são da região Norte enquanto que a maior média geral de notas para a maioria das classes de renda são da região Sudeste (perdendo apenas para o Centro Oeste na classe de renda D).\n",
    "    </b>\n",
    "    </div>"
   ]
  },
  {
   "cell_type": "markdown",
   "metadata": {
    "scrolled": false
   },
   "source": [
    "#### Agrupando e ordenando dados"
   ]
  },
  {
   "cell_type": "markdown",
   "metadata": {},
   "source": [
    "<div class=\"alert alert-info\">\n",
    "<b>11</b> - Qual o ranking dos estados de acordo com a nota média obtida por alunos, considerando apenas instituições públicas?\n",
    "</div>"
   ]
  },
  {
   "cell_type": "code",
   "execution_count": 54,
   "metadata": {},
   "outputs": [
    {
     "data": {
      "text/plain": [
       "REGIAO\n",
       "SE    50.321451\n",
       "SU    49.417102\n",
       "NE    47.662558\n",
       "CO    45.431043\n",
       "NO    40.131073\n",
       "Name: NT_GER, dtype: float64"
      ]
     },
     "execution_count": 54,
     "metadata": {},
     "output_type": "execute_result"
    }
   ],
   "source": [
    "egeral_publicas.groupby(['REGIAO'])['NT_GER'].mean().sort_values(ascending=False)"
   ]
  },
  {
   "cell_type": "code",
   "execution_count": 55,
   "metadata": {},
   "outputs": [
    {
     "data": {
      "text/plain": [
       "Text(0.5, 0, 'Nota Média')"
      ]
     },
     "execution_count": 55,
     "metadata": {},
     "output_type": "execute_result"
    },
    {
     "data": {
      "image/png": "[encoded data removed]",
      "text/plain": [
       "<Figure size 720x576 with 1 Axes>"
      ]
     },
     "metadata": {
      "needs_background": "light"
     },
     "output_type": "display_data"
    }
   ],
   "source": [
    "plt.figure(figsize=(10, 8))\n",
    "ax = egeral_publicas.groupby(['REGIAO'])['NT_GER'].mean().sort_values(ascending=False).plot(kind='barh', grid=False)\n",
    "ax.axes.set_title(\"Enade 2017 (Eng. de Produção): Ranking dos estados de acordo com a nota média dos alunos para inst. públicas\", fontsize=16)\n",
    "\n",
    "ax.set_ylabel('Região', fontsize=14)\n",
    "ax.set_xlabel('Nota Média', fontsize=14)"
   ]
  },
  {
   "cell_type": "markdown",
   "metadata": {},
   "source": [
    "Explique os resultados obtidos."
   ]
  },
  {
   "cell_type": "markdown",
   "metadata": {},
   "source": [
    "<div class=\"alert alert-block alert-success\">\n",
    "<b>Os resultados refletem a análise feita na questão 10, onde a região sudeste possui a maior média de notas e a região norte possui a menor, com uma margem de significante de diferença.</b>\n",
    "    </div>"
   ]
  },
  {
   "cell_type": "markdown",
   "metadata": {},
   "source": [
    "#### Comportamentos anômalos"
   ]
  },
  {
   "cell_type": "markdown",
   "metadata": {},
   "source": [
    "<div class=\"alert alert-info\">\n",
    "<b>12</b> - Como se comparam as variáveis **idade**, **nota geral**, **ano de início da graduação** e **ano de fim do ensino médio** em termos de anomalias?\n",
    "</div>"
   ]
  },
  {
   "cell_type": "code",
   "execution_count": 56,
   "metadata": {},
   "outputs": [
    {
     "data": {
      "image/png": "[encoded data removed]",
      "text/plain": [
       "<Figure size 576x432 with 1 Axes>"
      ]
     },
     "metadata": {
      "needs_background": "light"
     },
     "output_type": "display_data"
    },
    {
     "data": {
      "image/png": "[encoded data removed]",
      "text/plain": [
       "<Figure size 576x432 with 1 Axes>"
      ]
     },
     "metadata": {
      "needs_background": "light"
     },
     "output_type": "display_data"
    },
    {
     "data": {
      "image/png": "[encoded data removed]",
      "text/plain": [
       "<Figure size 576x432 with 1 Axes>"
      ]
     },
     "metadata": {
      "needs_background": "light"
     },
     "output_type": "display_data"
    },
    {
     "data": {
      "image/png": "[encoded data removed]",
      "text/plain": [
       "<Figure size 576x432 with 1 Axes>"
      ]
     },
     "metadata": {
      "needs_background": "light"
     },
     "output_type": "display_data"
    }
   ],
   "source": [
    "columns_target = ['NU_IDADE', 'NT_GER', 'ANO_IN_GRAD', 'ANO_FIM_EM']\n",
    "label = ['Idade', 'Nota Geral', 'Ano de início da graduação', 'Ano de fim do ensino médio']\n",
    "i = 0\n",
    "for column in columns_target:\n",
    "    plt.figure(figsize=(8,6))\n",
    "    ax = egeral.boxplot(column)\n",
    "    ax.axes.set_title(\"Enade 2017 (Eng. de Produção): \"+label[i], fontsize=14)\n",
    "    ax.set_xlabel('')\n",
    "    ax.set_ylabel(label[i], fontsize=13)\n",
    "    plt.show()\n",
    "    i = i + 1"
   ]
  },
  {
   "cell_type": "markdown",
   "metadata": {},
   "source": [
    "Dica: Utilize BOXPLOT ou histograma para facilitar o entendimento."
   ]
  },
  {
   "cell_type": "markdown",
   "metadata": {},
   "source": [
    "Comente sobre os resultados."
   ]
  },
  {
   "cell_type": "markdown",
   "metadata": {},
   "source": [
    "<div class=\"alert alert-block alert-success\">\n",
    "<b>Em todas as variáveis analisadas é possível identificar uma quantidade considerável de outliers.<br>\n",
    "   Os outliers representados na variável 'idade' podem ser interpretadas como os alunos de mais idades (acima de 40 anos).<br>\n",
    "   Os outliers representados na variável 'notas' podem ser interpretadas como os alunos que obtiveram notas muito baixas e alunos com notas muito altas. <br>\n",
    "   Os outliers representados na variável 'ano de início da graduação' podem ser interpretadas como os alunos que começaram a graduação há muito tempo e ainda não concluíram (desperiodizados ou na lista para serem jubilados) e os alunos que ingressaram na faculdade e já estão concluíndo rapidamente. <br>\n",
    "   Os outliers representados na variável 'ano de fim do ensino médio' são os alunos mais velhos que terminaram o ensino médio há muito tempo e depois ingressaram nas universidades. Reflete o inverso da variável idade.\n",
    "    </b>\n",
    "    </div>"
   ]
  },
  {
   "cell_type": "markdown",
   "metadata": {},
   "source": [
    "#### Engenharia de atributos"
   ]
  },
  {
   "cell_type": "markdown",
   "metadata": {},
   "source": [
    "As questões QE_I27 a QE_I68 nos permitem avaliar quão boa é a instituição de acordo com a visão dos estudantes. Ela deve ser calculada como:\n",
    "\n",
    "NT_INST = $\\frac{1}{N} \\sum_{i=27}^{68} \\frac{f(\\text{QE_I}_i) - 1}{5}$\n",
    "\n",
    "onde $f$ é uma função que retorna o valor de QE_I$_i$ se ele estiver entre 1 a 6; ela retorna 1, caso contrário. $N$ é o total de questões, entre QE_I27 a QE_I68, que tiveram nota entre 1 a 6.\n",
    "\n",
    "<div class=\"alert alert-info\">\n",
    "<b>13</b> - Seguindo a definição dada, crie a coluna NT_INST que reflete a nota que cada estudante daria para a instituição. \n",
    "</div>    "
   ]
  },
  {
   "cell_type": "code",
   "execution_count": 57,
   "metadata": {},
   "outputs": [],
   "source": [
    "def calc_nt(row):\n",
    "    a = []\n",
    "    c = 0.0\n",
    "    for col in qi_df.columns:\n",
    "        if row[col] < 7:\n",
    "            a.append(row[col])\n",
    "            c = c + 1\n",
    "        else:\n",
    "            a.append(1.0)\n",
    "    b = []\n",
    "    for i in range(42):\n",
    "        b.append(((a[i] - 1)/5))\n",
    "    result = sum(b)\n",
    "    if c == 0:\n",
    "        return 0.0\n",
    "    else:\n",
    "        return (result/c)"
   ]
  },
  {
   "cell_type": "code",
   "execution_count": 58,
   "metadata": {},
   "outputs": [],
   "source": [
    "qi_df = egeral.loc[:,'QE_I27':'QE_I68']\n",
    "egeral['NT_INST'] = qi_df.apply(lambda row: calc_nt(row), axis=1)"
   ]
  },
  {
   "cell_type": "code",
   "execution_count": 59,
   "metadata": {},
   "outputs": [
    {
     "data": {
      "text/plain": [
       "13739    0.647368\n",
       "9729     0.638095\n",
       "2323     0.845000\n",
       "6308     0.757143\n",
       "22839    0.923810\n",
       "Name: NT_INST, dtype: float64"
      ]
     },
     "execution_count": 59,
     "metadata": {},
     "output_type": "execute_result"
    }
   ],
   "source": [
    "egeral['NT_INST'].sample(5)"
   ]
  },
  {
   "cell_type": "code",
   "execution_count": 60,
   "metadata": {},
   "outputs": [
    {
     "data": {
      "text/plain": [
       "count    23988.000000\n",
       "mean         0.781938\n",
       "std          0.199391\n",
       "min          0.000000\n",
       "25%          0.668293\n",
       "50%          0.814286\n",
       "75%          0.952381\n",
       "max          1.000000\n",
       "Name: NT_INST, dtype: float64"
      ]
     },
     "execution_count": 60,
     "metadata": {},
     "output_type": "execute_result"
    }
   ],
   "source": [
    "egeral['NT_INST'].describe()"
   ]
  },
  {
   "cell_type": "markdown",
   "metadata": {},
   "source": [
    "#### Preparando dados para classificação"
   ]
  },
  {
   "cell_type": "markdown",
   "metadata": {},
   "source": [
    "Queremos tentar prever a nota de um aluno apartir das seguintes informações:\n",
    "\n",
    "* CO_CATEGAD, CO_ORGACAD, CO_MODALIDADE, CO_UF_CURSO, REGIAO,  \n",
    "* NU_IDADE, TP_SEXO, CO_TURNO_GRADUACAO, \n",
    "* QE_I01, QE_I02, QE_I03, QE_I04, QE_I05, QE_I06, QE_I07, QE_I08, QE_I09, QE_I10, QE_I11, QE_I12, QE_I13, QE_I14, QE_I15, QE_I17, QE_I18, QE_I19, QE_I20, QE_I21, QE_I22, QE_I23, QE_I24, QE_I25, QE_I26 \n",
    "* NT_INST\n",
    "\n",
    "<div class=\"alert alert-info\">\n",
    "<b>14</b> - Prepare os dados para aprendizado, convertendo strings para dados categóricos, dados categóricos não binários para hot-vectors e padronizando dados numéricos usando Z-score.\n",
    "</div> "
   ]
  },
  {
   "cell_type": "code",
   "execution_count": 61,
   "metadata": {},
   "outputs": [],
   "source": [
    "colunas_to_cat = ['CO_UF_CURSO', 'REGIAO', 'TP_SEXO', 'QE_I01', 'QE_I02', 'QE_I03', 'QE_I04', 'QE_I05', 'QE_I06', 'QE_I07',\n",
    "       'QE_I08', 'QE_I09', 'QE_I10', 'QE_I11', 'QE_I12', 'QE_I13', 'QE_I14',\n",
    "       'QE_I15', 'QE_I17', 'QE_I18', 'QE_I19', 'QE_I20', 'QE_I21', 'QE_I22',\n",
    "       'QE_I23', 'QE_I24', 'QE_I25', 'QE_I26']\n",
    "\n",
    "colunas_to_hot_vectors = ['CO_CATEGAD', 'CO_ORGACAD', 'CO_UF_CURSO', 'REGIAO', 'CO_TURNO_GRADUACAO', 'QE_I01', 'QE_I02', 'QE_I03', 'QE_I04', 'QE_I05', 'QE_I06', 'QE_I07',\n",
    "       'QE_I08', 'QE_I09', 'QE_I10', 'QE_I11', 'QE_I12', 'QE_I13', 'QE_I14',\n",
    "       'QE_I15', 'QE_I17', 'QE_I18', 'QE_I19', 'QE_I20', 'QE_I21', 'QE_I22',\n",
    "       'QE_I23', 'QE_I24', 'QE_I25', 'QE_I26']\n",
    "\n",
    "colunas_to_zscore = ['NU_IDADE', 'NT_INST']"
   ]
  },
  {
   "cell_type": "code",
   "execution_count": 62,
   "metadata": {},
   "outputs": [],
   "source": [
    "cols = list(set(colunas_to_cat + colunas_to_hot_vectors + colunas_to_zscore))\n",
    "egeral_ml = egeral[cols].copy()"
   ]
  },
  {
   "cell_type": "code",
   "execution_count": 63,
   "metadata": {},
   "outputs": [],
   "source": [
    "for c in colunas_to_cat:\n",
    "    egeral_ml[c] = egeral_ml[c].astype('category').cat.codes"
   ]
  },
  {
   "cell_type": "code",
   "execution_count": 64,
   "metadata": {},
   "outputs": [],
   "source": [
    "for c in colunas_to_hot_vectors:\n",
    "    egeral_ml = pd.concat([egeral_ml, pd.get_dummies(egeral_ml[c], prefix = c)], \n",
    "              axis=1).drop(c, axis = 1)"
   ]
  },
  {
   "cell_type": "code",
   "execution_count": 65,
   "metadata": {},
   "outputs": [],
   "source": [
    "for c in colunas_to_zscore:\n",
    "    egeral_ml[c] = (egeral_ml[c] - egeral_ml[c].mean())/egeral_ml[c].std()"
   ]
  },
  {
   "cell_type": "code",
   "execution_count": 66,
   "metadata": {},
   "outputs": [],
   "source": [
    "limiar = egeral['NT_GER'].mean()\n",
    "egeral_ml['Aprovado'] = egeral['NT_GER'].apply(lambda row: 1 if row > limiar else 0)\n",
    "\n",
    "colunas = list(egeral_ml.columns.values)\n",
    "colunas.remove('Aprovado')\n",
    "\n",
    "X = egeral_ml[colunas].values\n",
    "y = egeral_ml['Aprovado'].values"
   ]
  },
  {
   "cell_type": "code",
   "execution_count": 67,
   "metadata": {},
   "outputs": [
    {
     "data": {
      "text/plain": [
       "0    1\n",
       "1    1\n",
       "2    1\n",
       "3    1\n",
       "4    0\n",
       "Name: Aprovado, dtype: int64"
      ]
     },
     "execution_count": 67,
     "metadata": {},
     "output_type": "execute_result"
    }
   ],
   "source": [
    "egeral_ml['Aprovado'].head()"
   ]
  },
  {
   "cell_type": "code",
   "execution_count": 68,
   "metadata": {},
   "outputs": [
    {
     "data": {
      "text/plain": [
       "0    55.6\n",
       "1    72.6\n",
       "2    50.3\n",
       "3    45.2\n",
       "4    40.9\n",
       "Name: NT_GER, dtype: float64"
      ]
     },
     "execution_count": 68,
     "metadata": {},
     "output_type": "execute_result"
    }
   ],
   "source": [
    "egeral['NT_GER'].head()"
   ]
  },
  {
   "cell_type": "markdown",
   "metadata": {},
   "source": [
    "## Questão bônus \n",
    "### Classificação"
   ]
  },
  {
   "cell_type": "markdown",
   "metadata": {},
   "source": [
    "Se você gerou os dados corretamente, você pode agora tentar prever, dado um aluno, se ele vai passar ou não no ENADE:"
   ]
  },
  {
   "cell_type": "code",
   "execution_count": 69,
   "metadata": {},
   "outputs": [
    {
     "data": {
      "text/plain": [
       "((16071, 229), (7917, 229))"
      ]
     },
     "execution_count": 69,
     "metadata": {},
     "output_type": "execute_result"
    }
   ],
   "source": [
    "from sklearn.model_selection import train_test_split\n",
    "from sklearn.ensemble import RandomForestClassifier\n",
    "from sklearn.model_selection import RandomizedSearchCV\n",
    "\n",
    "X_train, X_test, y_train, y_test = train_test_split(X, y, test_size=0.33)\n",
    "X_train.shape, X_test.shape"
   ]
  },
  {
   "cell_type": "code",
   "execution_count": 70,
   "metadata": {},
   "outputs": [
    {
     "data": {
      "text/plain": [
       "RandomizedSearchCV(cv=3, error_score='raise-deprecating',\n",
       "                   estimator=RandomForestClassifier(bootstrap=True,\n",
       "                                                    class_weight=None,\n",
       "                                                    criterion='gini',\n",
       "                                                    max_depth=None,\n",
       "                                                    max_features='auto',\n",
       "                                                    max_leaf_nodes=None,\n",
       "                                                    min_impurity_decrease=0.0,\n",
       "                                                    min_impurity_split=None,\n",
       "                                                    min_samples_leaf=1,\n",
       "                                                    min_samples_split=2,\n",
       "                                                    min_weight_fraction_leaf=0.0,\n",
       "                                                    n_estimators='warn',\n",
       "                                                    n_jobs=None,\n",
       "                                                    oob_score=False,\n",
       "                                                    random_state=None,\n",
       "                                                    verbose=0,\n",
       "                                                    warm_start=False),\n",
       "                   iid='warn', n_iter=10, n_jobs=-1,\n",
       "                   param_distributions={'criterion': ['gini', 'entropy'],\n",
       "                                        'max_depth': [None, 3, 5, 10],\n",
       "                                        'n_estimators': [100, 300, 500, 800,\n",
       "                                                         1000, 1200, 1500,\n",
       "                                                         2000]},\n",
       "                   pre_dispatch='2*n_jobs', random_state=42, refit=True,\n",
       "                   return_train_score=False, scoring='roc_auc', verbose=0)"
      ]
     },
     "execution_count": 70,
     "metadata": {},
     "output_type": "execute_result"
    }
   ],
   "source": [
    "n_estimators = [100, 300, 500, 800, 1000, 1200, 1500, 2000]\n",
    "criterion = ['gini', 'entropy']\n",
    "max_depth = [None, 3, 5, 10]\n",
    "\n",
    "random_param = {'n_estimators': n_estimators,\n",
    "                'criterion': criterion,\n",
    "                'max_depth': max_depth}\n",
    "\n",
    "clf = RandomForestClassifier()\n",
    "rs = RandomizedSearchCV(clf, random_param, cv=3, scoring='roc_auc', n_jobs=-1, random_state=42)\n",
    "rs.fit(X_train, y_train)"
   ]
  },
  {
   "cell_type": "code",
   "execution_count": 71,
   "metadata": {},
   "outputs": [
    {
     "name": "stdout",
     "output_type": "stream",
     "text": [
      "Best estimator: RandomForestClassifier(bootstrap=True, class_weight=None, criterion='entropy',\n",
      "                       max_depth=None, max_features='auto', max_leaf_nodes=None,\n",
      "                       min_impurity_decrease=0.0, min_impurity_split=None,\n",
      "                       min_samples_leaf=1, min_samples_split=2,\n",
      "                       min_weight_fraction_leaf=0.0, n_estimators=1000,\n",
      "                       n_jobs=None, oob_score=False, random_state=None,\n",
      "                       verbose=0, warm_start=False)\n",
      "\n",
      "Best parameters from random grid: {'n_estimators': 1000, 'max_depth': None, 'criterion': 'entropy'}\n",
      "Best score from random grid: 72.75\n",
      "ROC AUC on Test: 66.63\n"
     ]
    }
   ],
   "source": [
    "from sklearn.metrics import roc_auc_score\n",
    "\n",
    "print('Best estimator:', rs.best_estimator_)\n",
    "print('')\n",
    "print('Best parameters from random grid:', rs.best_params_)\n",
    "print('Best score from random grid:', np.round(100*rs.best_score_, 2))\n",
    "clf_final = rs.best_estimator_\n",
    "y_pred = clf_final.predict(X_test)\n",
    "roc_auc = np.round(100*roc_auc_score(y_test, y_pred), 2)\n",
    "print('ROC AUC on Test:', roc_auc)"
   ]
  },
  {
   "cell_type": "code",
   "execution_count": 72,
   "metadata": {},
   "outputs": [
    {
     "data": {
      "text/plain": [
       "<matplotlib.axes._subplots.AxesSubplot at 0x7fefaf172978>"
      ]
     },
     "execution_count": 72,
     "metadata": {},
     "output_type": "execute_result"
    },
    {
     "data": {
      "image/png": "[encoded data removed]",
      "text/plain": [
       "<Figure size 1008x936 with 3 Axes>"
      ]
     },
     "metadata": {
      "needs_background": "light"
     },
     "output_type": "display_data"
    }
   ],
   "source": [
    "import scikitplot as skplt\n",
    "\n",
    "plt.figure(figsize=(14,13))\n",
    "ax1 = plt.subplot(221)\n",
    "skplt.metrics.plot_confusion_matrix(y_test, y_pred, normalize=True, ax=ax1)\n",
    "ax1.set_yticklabels(['Reprovado', 'Aprovado'])\n",
    "ax1.set_xticklabels(['Reprovado', 'Aprovado']) \n",
    "ax1.set_xlabel('Predicted label\\nscore={:0.2f}; missclass={:0.2f}'.format(roc_auc, 100 - roc_auc))\n",
    "\n",
    "y_probas = clf_final.predict_proba(X_test)\n",
    "ax2 = plt.subplot(222)\n",
    "skplt.metrics.plot_roc(y_test, y_probas, figsize=(8,8), ax=ax2)\n"
   ]
  },
  {
   "cell_type": "markdown",
   "metadata": {},
   "source": [
    "<div class=\"alert alert-info\">\n",
    "<b>15</b> - Que atributos a RandomForest julgou mais relevantes para determinar se o aluno vai ou não passar?\n",
    "</div>"
   ]
  },
  {
   "cell_type": "code",
   "execution_count": 73,
   "metadata": {},
   "outputs": [
    {
     "data": {
      "text/html": [
       "<div>\n",
       "<style scoped>\n",
       "    .dataframe tbody tr th:only-of-type {\n",
       "        vertical-align: middle;\n",
       "    }\n",
       "\n",
       "    .dataframe tbody tr th {\n",
       "        vertical-align: top;\n",
       "    }\n",
       "\n",
       "    .dataframe thead th {\n",
       "        text-align: right;\n",
       "    }\n",
       "</style>\n",
       "<table border=\"1\" class=\"dataframe\">\n",
       "  <thead>\n",
       "    <tr style=\"text-align: right;\">\n",
       "      <th></th>\n",
       "      <th>Importância</th>\n",
       "    </tr>\n",
       "  </thead>\n",
       "  <tbody>\n",
       "    <tr>\n",
       "      <th>NT_INST</th>\n",
       "      <td>0.050586</td>\n",
       "    </tr>\n",
       "    <tr>\n",
       "      <th>NU_IDADE</th>\n",
       "      <td>0.046927</td>\n",
       "    </tr>\n",
       "    <tr>\n",
       "      <th>QE_I11_0</th>\n",
       "      <td>0.012332</td>\n",
       "    </tr>\n",
       "    <tr>\n",
       "      <th>CO_CATEGAD_1</th>\n",
       "      <td>0.012317</td>\n",
       "    </tr>\n",
       "    <tr>\n",
       "      <th>TP_SEXO</th>\n",
       "      <td>0.012091</td>\n",
       "    </tr>\n",
       "    <tr>\n",
       "      <th>QE_I22_1</th>\n",
       "      <td>0.010789</td>\n",
       "    </tr>\n",
       "    <tr>\n",
       "      <th>QE_I25_0</th>\n",
       "      <td>0.010711</td>\n",
       "    </tr>\n",
       "    <tr>\n",
       "      <th>QE_I26_5</th>\n",
       "      <td>0.010661</td>\n",
       "    </tr>\n",
       "    <tr>\n",
       "      <th>QE_I20_2</th>\n",
       "      <td>0.010458</td>\n",
       "    </tr>\n",
       "    <tr>\n",
       "      <th>QE_I23_1</th>\n",
       "      <td>0.010455</td>\n",
       "    </tr>\n",
       "  </tbody>\n",
       "</table>\n",
       "</div>"
      ],
      "text/plain": [
       "              Importância\n",
       "NT_INST          0.050586\n",
       "NU_IDADE         0.046927\n",
       "QE_I11_0         0.012332\n",
       "CO_CATEGAD_1     0.012317\n",
       "TP_SEXO          0.012091\n",
       "QE_I22_1         0.010789\n",
       "QE_I25_0         0.010711\n",
       "QE_I26_5         0.010661\n",
       "QE_I20_2         0.010458\n",
       "QE_I23_1         0.010455"
      ]
     },
     "execution_count": 73,
     "metadata": {},
     "output_type": "execute_result"
    }
   ],
   "source": [
    "feature_importances = pd.DataFrame(clf_final.feature_importances_,\n",
    "                                   index = colunas,\n",
    "                                   columns=['Importância']).sort_values('Importância', ascending=False)\n",
    "feature_importances[:10]"
   ]
  }
 ],
 "metadata": {
  "kernelspec": {
   "display_name": "Python 3",
   "language": "python",
   "name": "python3"
  },
  "language_info": {
   "codemirror_mode": {
    "name": "ipython",
    "version": 3
   },
   "file_extension": ".py",
   "mimetype": "text/x-python",
   "name": "python",
   "nbconvert_exporter": "python",
   "pygments_lexer": "ipython3",
   "version": "3.6.7"
  }
 },
 "nbformat": 4,
 "nbformat_minor": 2
}
